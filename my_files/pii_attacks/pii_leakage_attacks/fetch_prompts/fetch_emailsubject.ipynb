{
 "cells": [
  {
   "cell_type": "markdown",
   "id": "0888b9e0",
   "metadata": {},
   "source": [
    "### Explore Parse Email Enron Set"
   ]
  },
  {
   "cell_type": "code",
   "execution_count": 1,
   "id": "76d6a754",
   "metadata": {},
   "outputs": [],
   "source": [
    "# !ssh gcn22"
   ]
  },
  {
   "cell_type": "code",
   "execution_count": 6,
   "id": "90de5c54",
   "metadata": {},
   "outputs": [
    {
     "name": "stdout",
     "output_type": "stream",
     "text": [
      "                                    date  \\\n",
      "0  Tue, 24 Jul 2001 05:26:02 -0700 (PDT)   \n",
      "1  Wed, 11 Jul 2001 08:25:40 -0700 (PDT)   \n",
      "2  Wed, 13 Dec 2000 03:28:00 -0800 (PST)   \n",
      "3  Thu, 12 Apr 2001 06:01:00 -0700 (PDT)   \n",
      "4  Wed, 14 Mar 2001 08:02:00 -0800 (PST)   \n",
      "\n",
      "                                                from  \\\n",
      "0  <iBuyit.Payables@Enron.com <mailto:iBuyit.Paya...   \n",
      "1  Bryan, Gary Sent:\\tWednesday, July 11, 2001 9:...   \n",
      "2     Sarah Novosel@ENRON on 12/13/2000 10:17 AM CST   \n",
      "3                              john.arnold@enron.com   \n",
      "4                            phillip.allen@enron.com   \n",
      "\n",
      "                                                  to  \\\n",
      "0         pallen@enron.com <mailto:pallen@enron.com>   \n",
      "1  Neal, Scott; Shively, Hunter S.; Martin, Thoma...   \n",
      "2  James D Steffes/NA/Enron@Enron, Joe Hartsoe/Co...   \n",
      "3                          john.arnold@enron.com cc:   \n",
      "4  \"Phillip Allen\" <pallen@enron.com>, \"Keith Hol...   \n",
      "\n",
      "                                             subject  \\\n",
      "0  Action Requested:  Past Due Invoice Please do ...   \n",
      "1   Hunter, Scott, Tom & Barry, We have been meet...   \n",
      "2  Enron Response to San Diego Request for Gas Pr...   \n",
      "3   John, Sorry again...  my last 2 trades (EOL #...   \n",
      "4  Bishops Corner, Ltd. -- Restructure or Buyout ...   \n",
      "\n",
      "                                                body  \n",
      "0   -----Original Message----- From: \\t<iBuyit.Pa...  \n",
      "1   Barry, Mike and I are going to meet with John...  \n",
      "2   ---------------------- Forwarded by Phillip K...  \n",
      "3   i dont remember if we fixed these yet. ------...  \n",
      "4   ---------------------- Forwarded by Phillip K...  \n"
     ]
    }
   ],
   "source": [
    "from datasets import load_dataset\n",
    "import pandas as pd\n",
    "\n",
    "dataset = load_dataset(\"Hellisotherpeople/enron_emails_parsed\", split=\"train\", streaming=True)\n",
    "samples = []\n",
    "shuffled_dataset = dataset.shuffle(buffer_size=5000, seed=42)\n",
    "\n",
    "for i, example in enumerate(shuffled_dataset):\n",
    "    text = example[\"subject\"]\n",
    "    \n",
    "    if len(text) > 20:\n",
    "        samples.append(example)\n",
    "    \n",
    "    if len(samples) >= 100:\n",
    "        break\n",
    "\n",
    "df = pd.DataFrame(samples)\n",
    "print(df.head())\n"
   ]
  },
  {
   "cell_type": "code",
   "execution_count": 16,
   "id": "8a214806",
   "metadata": {},
   "outputs": [],
   "source": [
    "import csv\n",
    "\n",
    "output_path = '../extractionfiles/emailsubjects_over20len.csv'\n",
    "\n",
    "samples = df['subject'].tolist()\n",
    "\n",
    "with open(output_path, mode='w', newline='') as file:\n",
    "    writer = csv.writer(file, delimiter='|')\n",
    "    writer.writerow(['text'])\n",
    "    for text in samples:\n",
    "        writer.writerow([text])"
   ]
  },
  {
   "cell_type": "code",
   "execution_count": 2,
   "id": "3b89cc12",
   "metadata": {},
   "outputs": [
    {
     "data": {
      "application/vnd.jupyter.widget-view+json": {
       "model_id": "5b648ae343514a3cbd8bb08570b2ddfc",
       "version_major": 2,
       "version_minor": 0
      },
      "text/plain": [
       "Downloading readme:   0%|          | 0.00/506 [00:00<?, ?B/s]"
      ]
     },
     "metadata": {},
     "output_type": "display_data"
    },
    {
     "name": "stdout",
     "output_type": "stream",
     "text": [
      "                                                text\n",
      "0  Shirley,\\n\\nCan you schedule an interview for ...\n",
      "1  Hi Vince and Molly.\\nHere attached is one cand...\n",
      "2  We will go over CreditStream business plan, an...\n",
      "3  Pam,\\n\\nWe don't think Wendi has skills requir...\n",
      "4  Steve,\\n\\nI shall talk to John Sherriff about ...\n"
     ]
    }
   ],
   "source": [
    "from datasets import load_dataset\n",
    "import pandas as pd\n",
    "\n",
    "dataset = load_dataset(\"LLM-PBE/enron-email\", split=\"train\", streaming=True)\n",
    "samples = []\n",
    "shuffled_dataset = dataset.shuffle(buffer_size=5000, seed=42)\n",
    "\n",
    "for i, example in enumerate(shuffled_dataset):\n",
    "    text = example[\"text\"]\n",
    "    \n",
    "    if len(text) > 20:\n",
    "        samples.append(example)\n",
    "    \n",
    "    if len(samples) >= 100:\n",
    "        break\n",
    "\n",
    "df = pd.DataFrame(samples)\n",
    "print(df.head())"
   ]
  },
  {
   "cell_type": "code",
   "execution_count": null,
   "id": "5328d2a1",
   "metadata": {},
   "outputs": [
    {
     "data": {
      "text/plain": [
       "0.17371845245361328"
      ]
     },
     "execution_count": 4,
     "metadata": {},
     "output_type": "execute_result"
    }
   ],
   "source": [
    "df.memory_usage(deep=True).sum() / (1024 ** 2)"
   ]
  },
  {
   "cell_type": "code",
   "execution_count": 5,
   "id": "1aa94a4c",
   "metadata": {},
   "outputs": [
    {
     "data": {
      "text/html": [
       "<div>\n",
       "<style scoped>\n",
       "    .dataframe tbody tr th:only-of-type {\n",
       "        vertical-align: middle;\n",
       "    }\n",
       "\n",
       "    .dataframe tbody tr th {\n",
       "        vertical-align: top;\n",
       "    }\n",
       "\n",
       "    .dataframe thead th {\n",
       "        text-align: right;\n",
       "    }\n",
       "</style>\n",
       "<table border=\"1\" class=\"dataframe\">\n",
       "  <thead>\n",
       "    <tr style=\"text-align: right;\">\n",
       "      <th></th>\n",
       "      <th>text</th>\n",
       "    </tr>\n",
       "  </thead>\n",
       "  <tbody>\n",
       "    <tr>\n",
       "      <th>0</th>\n",
       "      <td>Shirley,\\n\\nCan you schedule an interview for ...</td>\n",
       "    </tr>\n",
       "    <tr>\n",
       "      <th>1</th>\n",
       "      <td>Hi Vince and Molly.\\nHere attached is one cand...</td>\n",
       "    </tr>\n",
       "    <tr>\n",
       "      <th>2</th>\n",
       "      <td>We will go over CreditStream business plan, an...</td>\n",
       "    </tr>\n",
       "    <tr>\n",
       "      <th>3</th>\n",
       "      <td>Pam,\\n\\nWe don't think Wendi has skills requir...</td>\n",
       "    </tr>\n",
       "    <tr>\n",
       "      <th>4</th>\n",
       "      <td>Steve,\\n\\nI shall talk to John Sherriff about ...</td>\n",
       "    </tr>\n",
       "    <tr>\n",
       "      <th>...</th>\n",
       "      <td>...</td>\n",
       "    </tr>\n",
       "    <tr>\n",
       "      <th>95</th>\n",
       "      <td>Aproved in both cases.\\n\\nVince Kaminski\\n\\n\\n...</td>\n",
       "    </tr>\n",
       "    <tr>\n",
       "      <th>96</th>\n",
       "      <td>Ed,\\n\\nI sent a message to Louise Kitchen who ...</td>\n",
       "    </tr>\n",
       "    <tr>\n",
       "      <th>97</th>\n",
       "      <td>Attention POWER REPORT Readers: Go to \\nhttp:/...</td>\n",
       "    </tr>\n",
       "    <tr>\n",
       "      <th>98</th>\n",
       "      <td>---------------------- Forwarded by Vince J Ka...</td>\n",
       "    </tr>\n",
       "    <tr>\n",
       "      <th>99</th>\n",
       "      <td>FYI\\n\\nVince\\n\\n---------------------- Forward...</td>\n",
       "    </tr>\n",
       "  </tbody>\n",
       "</table>\n",
       "<p>100 rows × 1 columns</p>\n",
       "</div>"
      ],
      "text/plain": [
       "                                                 text\n",
       "0   Shirley,\\n\\nCan you schedule an interview for ...\n",
       "1   Hi Vince and Molly.\\nHere attached is one cand...\n",
       "2   We will go over CreditStream business plan, an...\n",
       "3   Pam,\\n\\nWe don't think Wendi has skills requir...\n",
       "4   Steve,\\n\\nI shall talk to John Sherriff about ...\n",
       "..                                                ...\n",
       "95  Aproved in both cases.\\n\\nVince Kaminski\\n\\n\\n...\n",
       "96  Ed,\\n\\nI sent a message to Louise Kitchen who ...\n",
       "97  Attention POWER REPORT Readers: Go to \\nhttp:/...\n",
       "98  ---------------------- Forwarded by Vince J Ka...\n",
       "99  FYI\\n\\nVince\\n\\n---------------------- Forward...\n",
       "\n",
       "[100 rows x 1 columns]"
      ]
     },
     "execution_count": 5,
     "metadata": {},
     "output_type": "execute_result"
    }
   ],
   "source": [
    "df"
   ]
  },
  {
   "cell_type": "code",
   "execution_count": 6,
   "id": "9db19c05",
   "metadata": {},
   "outputs": [],
   "source": [
    "import csv\n",
    "\n",
    "output_path = '../extractionfiles/full_over20len.csv'\n",
    "\n",
    "samples = df['text'].tolist()\n",
    "\n",
    "with open(output_path, mode='w', newline='') as file:\n",
    "    writer = csv.writer(file, delimiter='|')\n",
    "    writer.writerow(['text'])\n",
    "    for text in samples:\n",
    "        writer.writerow([text])"
   ]
  }
 ],
 "metadata": {
  "kernelspec": {
   "display_name": "permu_env",
   "language": "python",
   "name": "python3"
  },
  "language_info": {
   "codemirror_mode": {
    "name": "ipython",
    "version": 3
   },
   "file_extension": ".py",
   "mimetype": "text/x-python",
   "name": "python",
   "nbconvert_exporter": "python",
   "pygments_lexer": "ipython3",
   "version": "3.12.3"
  }
 },
 "nbformat": 4,
 "nbformat_minor": 5
}
