{
 "cells": [
  {
   "cell_type": "markdown",
   "id": "d7a4eb7a",
   "metadata": {},
   "source": [
    "#### Different Propirtoin of of Retain/Forget\n",
    "\n",
    "\n",
    "The TOFU benchmark has 3 different proportions/percentages : 1,5,10 for their forget sets. All of my work I am currently doing on the 10 percent setting. I want my code to expand, such that I have 1,5, 25 and 50 settings as well."
   ]
  },
  {
   "cell_type": "code",
   "execution_count": 29,
   "id": "2d2c077f",
   "metadata": {},
   "outputs": [],
   "source": [
    "import json\n",
    "import pandas as pd\n",
    "\n",
    "\n",
    "forget_path = '/projects/0/hpmlprjs/LLM/danp/UGBench/data/PII/forget10.json'\n",
    "retain_path = '/projects/0/hpmlprjs/LLM/danp/UGBench/data/PII/retain90.json'\n",
    "full_data_path = '/projects/0/hpmlprjs/LLM/danp/UGBench/my_files/pii_dataset/data/qa_pairs_full2.json'\n",
    "\n",
    "\n",
    "with open(forget_path, 'r') as f:\n",
    "    forget_data = json.load(f)\n",
    "with open(retain_path, 'r') as f:\n",
    "    retain_data = json.load(f)\n",
    "with open(full_data_path, 'r') as f:\n",
    "    full_data = json.load(f)\n",
    "\n",
    "\n",
    "forget10_df = pd.DataFrame(forget_data)\n",
    "retain90_df = pd.DataFrame(retain_data)\n",
    "full_df = pd.DataFrame(full_data)\n"
   ]
  },
  {
   "cell_type": "code",
   "execution_count": 8,
   "id": "c59fec1e",
   "metadata": {},
   "outputs": [],
   "source": [
    "full_df.loc[full_df['question'].isin(forget10_df['question']),'config10'] = 'forget'\n",
    "full_df.loc[full_df['question'].isin(retain90_df['question']),'config10'] = 'retain'"
   ]
  },
  {
   "cell_type": "markdown",
   "id": "3ea8c33c",
   "metadata": {},
   "source": [
    "#### Create sets with 50,25,25 and 1 percent. \n",
    "Make sure they are overlapping (i.e all persons from the 50 set are present in the 25,10,5,1 and so on downstream)."
   ]
  },
  {
   "cell_type": "code",
   "execution_count": 41,
   "id": "fab6674e",
   "metadata": {},
   "outputs": [],
   "source": [
    "import pandas as pd\n",
    "import numpy as np\n",
    "\n",
    "unique_names = retain90_df['subject'].unique()\n",
    "count = 80\n",
    "selected_names = np.random.choice(unique_names, size=count, replace=False)\n",
    "new50_df = retain90_df[retain90_df['subject'].isin(selected_names)]\n",
    "forget50_df = pd.concat([forget10_df, new50_df], ignore_index=True)\n"
   ]
  },
  {
   "cell_type": "code",
   "execution_count": 45,
   "id": "a9fc4898",
   "metadata": {},
   "outputs": [],
   "source": [
    "import pandas as pd\n",
    "import numpy as np\n",
    "\n",
    "unique_names = new50_df['subject'].unique()\n",
    "count = 30\n",
    "selected_names = np.random.choice(unique_names, size=count, replace=False)\n",
    "new15_df = retain90_df[retain90_df['subject'].isin(selected_names)]\n",
    "forget25_df = pd.concat([forget10_df, new15_df], ignore_index=True)"
   ]
  },
  {
   "cell_type": "code",
   "execution_count": null,
   "id": "3dce0c50",
   "metadata": {},
   "outputs": [],
   "source": [
    "import pandas as pd\n",
    "import numpy as np\n",
    "\n",
    "unique_names = forget10_df['subject'].unique()\n",
    "count = 10\n",
    "selected_names = np.random.choice(unique_names, size=count, replace=False)\n",
    "forget5_df = forget10_df[forget10_df['subject'].isin(selected_names)]"
   ]
  },
  {
   "cell_type": "code",
   "execution_count": 51,
   "id": "ed7f95c8",
   "metadata": {},
   "outputs": [],
   "source": [
    "import pandas as pd\n",
    "import numpy as np\n",
    "\n",
    "unique_names = forget5_df['subject'].unique()\n",
    "count = 2\n",
    "selected_names = np.random.choice(unique_names, size=count, replace=False)\n",
    "forget1_df = forget5_df[forget5_df['subject'].isin(selected_names)]"
   ]
  },
  {
   "cell_type": "code",
   "execution_count": 68,
   "id": "6f1d987b",
   "metadata": {},
   "outputs": [],
   "source": [
    "retain_forget_df = pd.concat([forget10_df, retain90_df], ignore_index=True)"
   ]
  },
  {
   "cell_type": "code",
   "execution_count": 69,
   "id": "7d753b85",
   "metadata": {},
   "outputs": [],
   "source": [
    "retain50_df = retain90_df[~retain90_df['subject'].isin(new50_df['subject'])]\n",
    "retain75_df = retain90_df[~retain90_df['subject'].isin(new15_df['subject'])]\n",
    "retain95_df = retain_forget_df[~retain_forget_df['subject'].isin(forget5_df['subject'])]\n",
    "retain99_df = retain_forget_df[~retain_forget_df['subject'].isin(forget1_df['subject'])]"
   ]
  },
  {
   "cell_type": "code",
   "execution_count": 81,
   "id": "bb0244e2",
   "metadata": {},
   "outputs": [
    {
     "name": "stdout",
     "output_type": "stream",
     "text": [
      "False\n",
      "False\n",
      "False\n",
      "False\n",
      "False\n"
     ]
    }
   ],
   "source": [
    "print(forget1_df['subject'].isin(retain99_df['subject']).any())\n",
    "print(forget5_df['subject'].isin(retain95_df['subject']).any())\n",
    "print(forget10_df['subject'].isin(retain90_df['subject']).any())\n",
    "print(forget25_df['subject'].isin(retain75_df['subject']).any())\n",
    "print(forget50_df['subject'].isin(retain50_df['subject']).any())"
   ]
  },
  {
   "cell_type": "code",
   "execution_count": 95,
   "id": "57182dc7",
   "metadata": {},
   "outputs": [],
   "source": [
    "forget1_df.to_json('/projects/0/hpmlprjs/LLM/danp/UGBench/data/PII/forget1.json', orient='records', lines=False)\n",
    "forget5_df.to_json('/projects/0/hpmlprjs/LLM/danp/UGBench/data/PII/forget5.json', orient='records', lines=False)\n",
    "forget25_df.to_json('/projects/0/hpmlprjs/LLM/danp/UGBench/data/PII/forget25.json', orient='records', lines=False)   \n",
    "forget50_df.to_json('/projects/0/hpmlprjs/LLM/danp/UGBench/data/PII/forget50.json', orient='records', lines=False)\n",
    "\n",
    "retain50_df.to_json('/projects/0/hpmlprjs/LLM/danp/UGBench/data/PII/retain50.json', orient='records', lines=False)\n",
    "retain75_df.to_json('/projects/0/hpmlprjs/LLM/danp/UGBench/data/PII/retain75.json', orient='records', lines=False)\n",
    "retain95_df.to_json('/projects/0/hpmlprjs/LLM/danp/UGBench/data/PII/retain95.json', orient='records', lines=False)\n",
    "retain99_df.to_json('/projects/0/hpmlprjs/LLM/danp/UGBench/data/PII/retain99.json', orient='records', lines=False)"
   ]
  },
  {
   "cell_type": "code",
   "execution_count": 88,
   "id": "e74d582d",
   "metadata": {},
   "outputs": [],
   "source": [
    "split_names10_path = '/projects/0/hpmlprjs/LLM/danp/UGBench/data/PII/split_person_names/forget10_names.json'\n",
    "\n",
    "with open(split_names10_path, 'r') as f:\n",
    "    split_names = json.load(f)"
   ]
  },
  {
   "cell_type": "markdown",
   "id": "358c0a1b",
   "metadata": {},
   "source": [
    "##### Save split names for Evaluation Metrics"
   ]
  },
  {
   "cell_type": "code",
   "execution_count": 94,
   "id": "38b067df",
   "metadata": {},
   "outputs": [
    {
     "name": "stdout",
     "output_type": "stream",
     "text": [
      "Saved forget1_names.json (2 unique names) and retain99_names.json (198 unique names)\n",
      "Saved forget5_names.json (10 unique names) and retain95_names.json (190 unique names)\n",
      "Saved forget25_names.json (50 unique names) and retain75_names.json (150 unique names)\n",
      "Saved forget50_names.json (100 unique names) and retain50_names.json (100 unique names)\n"
     ]
    }
   ],
   "source": [
    "import json\n",
    "\n",
    "# Your existing name lists - now with unique names only\n",
    "split_forgetnames1 = forget1_df['subject'].unique().tolist()\n",
    "split_forgetnames5 = forget5_df['subject'].unique().tolist()\n",
    "split_forgetnames25 = forget25_df['subject'].unique().tolist()\n",
    "split_forgetnames50 = forget50_df['subject'].unique().tolist()\n",
    "\n",
    "split_retainnames50 = retain50_df['subject'].unique().tolist()\n",
    "split_retainnames75 = retain75_df['subject'].unique().tolist()\n",
    "split_retainnames95 = retain95_df['subject'].unique().tolist()\n",
    "split_retainnames99 = retain99_df['subject'].unique().tolist()\n",
    "\n",
    "# Create a mapping for easier access\n",
    "forget_names_dict = {\n",
    "    1: split_forgetnames1,\n",
    "    5: split_forgetnames5,\n",
    "    25: split_forgetnames25,\n",
    "    50: split_forgetnames50\n",
    "}\n",
    "\n",
    "retain_names_dict = {\n",
    "    50: split_retainnames50,\n",
    "    75: split_retainnames75,\n",
    "    95: split_retainnames95,\n",
    "    99: split_retainnames99\n",
    "}\n",
    "\n",
    "# Save forget and retain files\n",
    "for p in [1, 5, 25, 50]:\n",
    "    forget_p = p\n",
    "    retain_p = 100 - p\n",
    "    \n",
    "    # Save forget names\n",
    "    split_forget_path = f'/projects/0/hpmlprjs/LLM/danp/UGBench/data/PII/split_person_names/forget{forget_p}_names.json'\n",
    "    with open(split_forget_path, 'w') as f:\n",
    "        json.dump(forget_names_dict[forget_p], f, indent=2)\n",
    "    \n",
    "    # Save retain names\n",
    "    split_retain_path = f'/projects/0/hpmlprjs/LLM/danp/UGBench/data/PII/split_person_names/retain{retain_p}_names.json'\n",
    "    with open(split_retain_path, 'w') as f:\n",
    "        json.dump(retain_names_dict[retain_p], f, indent=2)\n",
    "    \n",
    "    print(f\"Saved forget{forget_p}_names.json ({len(forget_names_dict[forget_p])} unique names) and retain{retain_p}_names.json ({len(retain_names_dict[retain_p])} unique names)\")"
   ]
  }
 ],
 "metadata": {
  "kernelspec": {
   "display_name": "Python 3 (ipykernel)",
   "language": "python",
   "name": "python3"
  },
  "language_info": {
   "codemirror_mode": {
    "name": "ipython",
    "version": 3
   },
   "file_extension": ".py",
   "mimetype": "text/x-python",
   "name": "python",
   "nbconvert_exporter": "python",
   "pygments_lexer": "ipython3",
   "version": "3.12.3"
  }
 },
 "nbformat": 4,
 "nbformat_minor": 5
}
