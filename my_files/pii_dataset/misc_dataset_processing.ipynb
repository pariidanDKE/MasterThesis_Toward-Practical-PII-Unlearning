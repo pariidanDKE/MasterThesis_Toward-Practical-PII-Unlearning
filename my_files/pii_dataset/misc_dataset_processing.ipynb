{
 "cells": [
  {
   "cell_type": "markdown",
   "id": "5b0a359d",
   "metadata": {},
   "source": [
    "#### Add the perturb and question keys to my json, similar to the TOFU foramt (one paraphrase QA, and 5 pertrub Ans)"
   ]
  },
  {
   "cell_type": "code",
   "execution_count": null,
   "id": "b3fcc275",
   "metadata": {},
   "outputs": [],
   "source": [
    "import pandas as pd\n",
    "import json\n",
    "\n",
    "file_path = '/projects/0/hpmlprjs/LLM/danp/UGBench/my_files/pii_dataset/data/qa_pairs_full.json'\n",
    "\n",
    "with open(file_path, 'r', encoding='utf-8') as f:\n",
    "    data = json.load(f)\n",
    "# Convert to DataFrame\n",
    "qa_df = pd.DataFrame(data)"
   ]
  },
  {
   "cell_type": "code",
   "execution_count": 19,
   "id": "90bda3c3",
   "metadata": {},
   "outputs": [],
   "source": [
    "qa_df = pd.DataFrame(data)"
   ]
  },
  {
   "cell_type": "code",
   "execution_count": 28,
   "id": "9e271c10",
   "metadata": {},
   "outputs": [],
   "source": [
    "import pandas as pd\n",
    "import json\n",
    "\n",
    "file_path = '/projects/0/hpmlprjs/LLM/danp/UGBench/data/PII/forget10.json'\n",
    "with open(file_path, 'r', encoding='utf-8') as f:\n",
    "    data = json.load(f)\n",
    "# Convert to DataFrame\n",
    "forget_df = pd.DataFrame(data)\n",
    "\n",
    "\n",
    "file_path = '/projects/0/hpmlprjs/LLM/danp/UGBench/data/PII/retain90.json'\n",
    "with open(file_path, 'r', encoding='utf-8') as f:\n",
    "    data = json.load(f)\n",
    "# Convert to DataFrame\n",
    "retain_df = pd.DataFrame(data)\n",
    "\n",
    "\n",
    "file_path = '/projects/0/hpmlprjs/LLM/danp/UGBench/data/test/test_retain_pii.json'\n",
    "with open(file_path, 'r', encoding='utf-8') as f:\n",
    "    data = json.load(f)\n",
    "# Convert to DataFrame\n",
    "test_retain_df = pd.DataFrame(data)"
   ]
  },
  {
   "cell_type": "code",
   "execution_count": 29,
   "id": "4ffadfba",
   "metadata": {},
   "outputs": [],
   "source": [
    "import random\n",
    "\n",
    "qa_retain = qa_df.merge(retain_df, on='question', how='inner')\n",
    "\n",
    "# Assuming each x in 'paraphrased_qa_pairs' is a list of 5 dicts with keys 'paraphrased_question' and 'paraphrased_answer'\n",
    "retain_df['paraphrased_question'] = qa_retain['paraphrased_qa_pairs'].apply(\n",
    "    lambda x: random.choice(x)['paraphrased_question']\n",
    ")\n",
    "\n",
    "retain_df['paraphrased_answer'] = qa_retain['paraphrased_qa_pairs'].apply(\n",
    "    lambda x: random.choice(x)['paraphrased_answer']\n",
    ")\n",
    "\n",
    "retain_df['perturbed_answer'] = qa_retain['perturbed_qa_pairs'].apply(\n",
    "    lambda x: [y['paraphrased_answer'] for y in x]\n",
    ")\n",
    "\n",
    "# forget_df['subject'] = qa_retain['full_name']\n",
    "# forget_df = forget_df[['question','answer','paraphrased_question','paraphrased_answer','perturbed_answer','subject']]"
   ]
  },
  {
   "cell_type": "code",
   "execution_count": 42,
   "id": "3f6db72f",
   "metadata": {},
   "outputs": [],
   "source": [
    "test_retain_df.rename(columns={'pertrubed_answer':'perturbed_answer'},inplace=True)"
   ]
  },
  {
   "cell_type": "code",
   "execution_count": 44,
   "id": "2bd0dde1",
   "metadata": {},
   "outputs": [
    {
     "name": "stdout",
     "output_type": "stream",
     "text": [
      "JSON file created with 250 objects\n"
     ]
    }
   ],
   "source": [
    "import pandas as pd\n",
    "import json\n",
    "\n",
    "json_list = test_retain_df.to_dict(orient='records')\n",
    "file_path = '/projects/0/hpmlprjs/LLM/danp/UGBench/data/test/test_retain_pii.json'\n",
    "with open(file_path, 'w', encoding='utf-8') as f:\n",
    "    json.dump(json_list, f, ensure_ascii=False, indent=4)\n",
    "\n",
    "print(f\"JSON file created with {len(json_list)} objects\")"
   ]
  },
  {
   "cell_type": "markdown",
   "id": "d353ddab",
   "metadata": {},
   "source": [
    "Add the chosen paraphrase_question back to the qa_full dataset, such that the paraphrase eval_task works as well"
   ]
  },
  {
   "cell_type": "code",
   "execution_count": 15,
   "id": "ced134e8",
   "metadata": {},
   "outputs": [],
   "source": [
    "import pandas as pd\n",
    "import json\n",
    "\n",
    "file_path = '/projects/0/hpmlprjs/LLM/danp/UGBench/my_files/pii_dataset/data/qa_pairs_full2.json'\n",
    "\n",
    "with open(file_path, 'r', encoding='utf-8') as f:\n",
    "    data = json.load(f)\n",
    "# Convert to DataFrame\n",
    "qa_df = pd.DataFrame(data)"
   ]
  },
  {
   "cell_type": "code",
   "execution_count": 17,
   "id": "5234d273",
   "metadata": {},
   "outputs": [],
   "source": [
    "qa_df.drop(columns=['verification_issues'],inplace=True)"
   ]
  },
  {
   "cell_type": "code",
   "execution_count": 30,
   "id": "f7f82db6",
   "metadata": {},
   "outputs": [],
   "source": [
    "valid_cols = ['question','answer','paraphrased_question','paraphrased_answer','perturbed_answer']\n",
    "forget_df = forget_df[valid_cols]\n",
    "retain_df = retain_df[valid_cols]\n",
    "test_retain_df = test_retain_df[valid_cols]\n",
    "\n",
    "\n",
    "\n",
    "all_df = pd.concat([forget_df,retain_df,test_retain_df],ignore_index=True)\n"
   ]
  },
  {
   "cell_type": "code",
   "execution_count": 31,
   "id": "1d326b3f",
   "metadata": {},
   "outputs": [],
   "source": [
    "qa_df = qa_df.merge(all_df, on='question', how='inner')"
   ]
  },
  {
   "cell_type": "code",
   "execution_count": 33,
   "id": "9f6e0ce8",
   "metadata": {},
   "outputs": [],
   "source": [
    "qa_df.drop(columns=['answer_y','perturbed_answer'],inplace=True)"
   ]
  },
  {
   "cell_type": "code",
   "execution_count": 35,
   "id": "6231bac4",
   "metadata": {},
   "outputs": [
    {
     "name": "stdout",
     "output_type": "stream",
     "text": [
      "JSON file created with 2250 objects\n"
     ]
    }
   ],
   "source": [
    "import pandas as pd\n",
    "import json\n",
    "\n",
    "json_list = qa_df.to_dict(orient='records')\n",
    "file_path = '/projects/0/hpmlprjs/LLM/danp/UGBench/my_files/pii_dataset/data/qa_pairs_full2.json'\n",
    "with open(file_path, 'w', encoding='utf-8') as f:\n",
    "    json.dump(json_list, f, ensure_ascii=False, indent=4)\n",
    "\n",
    "print(f\"JSON file created with {len(json_list)} objects\")"
   ]
  }
 ],
 "metadata": {
  "kernelspec": {
   "display_name": "permu_env",
   "language": "python",
   "name": "python3"
  },
  "language_info": {
   "codemirror_mode": {
    "name": "ipython",
    "version": 3
   },
   "file_extension": ".py",
   "mimetype": "text/x-python",
   "name": "python",
   "nbconvert_exporter": "python",
   "pygments_lexer": "ipython3",
   "version": "3.12.3"
  }
 },
 "nbformat": 4,
 "nbformat_minor": 5
}
