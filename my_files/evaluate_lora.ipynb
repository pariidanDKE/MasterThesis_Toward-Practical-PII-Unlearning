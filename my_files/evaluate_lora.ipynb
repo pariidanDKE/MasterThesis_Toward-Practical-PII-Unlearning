{
 "cells": [
  {
   "cell_type": "markdown",
   "id": "a41eb71c",
   "metadata": {},
   "source": [
    "### Investigate how well LoRA Adapter works for PerMU"
   ]
  },
  {
   "cell_type": "code",
   "execution_count": 54,
   "id": "f61b06ff",
   "metadata": {},
   "outputs": [],
   "source": [
    "import os\n",
    "\n",
    "directory_path = '/projects/0/hpmlprjs/LLM/danp/UGBench/experiment/TOFU/llama2-7b'\n",
    "\n",
    "model_paths = []\n",
    "\n",
    "# List all entries in the directory\n",
    "for entry in os.listdir(directory_path):\n",
    "    full_path = os.path.join(directory_path, entry)\n",
    "    # Check if the entry is a directory\n",
    "    if os.path.isdir(full_path):\n",
    "        model_paths.append(entry)"
   ]
  },
  {
   "cell_type": "code",
   "execution_count": 55,
   "id": "8ae26514",
   "metadata": {},
   "outputs": [],
   "source": [
    "import pandas as pd\n",
    "import json\n",
    "\n",
    "import os\n",
    "\n",
    "models_list = []  # Initialize as a list to store DataFrames\n",
    "\n",
    "for mp in model_paths:\n",
    "    eval_path = os.path.join(directory_path, mp, 'eval_results')  # Use os.path.join for safe path concatenation\n",
    "    eval_csv_path = os.path.join(eval_path, 'eval.csv')  # Use os.path.join for safe path concatenation\n",
    "    adapter_path = os.path.join(directory_path, mp, 'adapter_config.json')  # Use os.path.join for safe path concatenation\n",
    "    if os.path.exists(adapter_path): \n",
    "        with open(adapter_path, 'r') as f:\n",
    "            data = json.load(f)\n",
    "        # Extract 'r' and 'alpha' from the JSON data\n",
    "        r = data.get('r', None)  # Default to None if 'r' is not found\n",
    "        alpha = data.get('lora_alpha', None)  # Default to None if 'alpha' is not found\n",
    "    else:\n",
    "        r = None\n",
    "        alpha = None\n",
    "\n",
    "    if os.path.exists(eval_csv_path): \n",
    "        eval_df  = pd.read_csv(eval_csv_path)\n",
    "        eval_df['model'] = mp  # Add model column\n",
    "        eval_df['r'] = r\n",
    "        eval_df['alpha'] = alpha\n",
    "        models_list.append(eval_df)  # Append the DataFrame to the list\n",
    "\n",
    "\n",
    "models_df = pd.concat(models_list, ignore_index=True)"
   ]
  },
  {
   "cell_type": "code",
   "execution_count": 56,
   "id": "2adcf7f4",
   "metadata": {},
   "outputs": [],
   "source": [
    "models_df.loc[models_df['model'] == 'FullPerMU_E5_B4_G3_lr2e-5_W1', 'r'] = 'Full'\n",
    "models_df.loc[models_df['model'] == 'FullPerMU_E5_B4_G3_lr2e-5_W1', 'alpha'] = 'Full'\n"
   ]
  },
  {
   "cell_type": "code",
   "execution_count": 57,
   "id": "891d35cd",
   "metadata": {},
   "outputs": [
    {
     "data": {
      "text/plain": [
       "Index(['ROUGE Real Authors', 'Prob. Real Authors', 'Truth Ratio Real Authors',\n",
       "       'ROUGE Real World', 'Prob. Real World', 'Truth Ratio Real World',\n",
       "       'ROUGE Retain', 'Prob. Retain', 'Truth Ratio Retain', 'ROUGE Forget',\n",
       "       'Prob. Forget', 'Truth Ratio Forget', 'ROUGE Forget Rephrase',\n",
       "       'Prob. Forget Rephrase', 'Truth Ratio Forget Rephrase',\n",
       "       'ROUGE Retain Rephrase', 'Prob. Retain Rephrase',\n",
       "       'Truth Ratio Retain Rephrase', 'Model Utility', 'Fluency Retain',\n",
       "       'Fluency Real Authors', 'Fluency Real World', 'Fluency Forget',\n",
       "       'Fluency Forget Rephrase', 'Fluency Retain Rephrase', 'Method',\n",
       "       'Submitted By', 'model', 'r', 'alpha'],\n",
       "      dtype='object')"
      ]
     },
     "execution_count": 57,
     "metadata": {},
     "output_type": "execute_result"
    }
   ],
   "source": [
    "models_df.columns"
   ]
  },
  {
   "cell_type": "code",
   "execution_count": 60,
   "id": "89ecbe69",
   "metadata": {},
   "outputs": [
    {
     "data": {
      "text/html": [
       "<div>\n",
       "<style scoped>\n",
       "    .dataframe tbody tr th:only-of-type {\n",
       "        vertical-align: middle;\n",
       "    }\n",
       "\n",
       "    .dataframe tbody tr th {\n",
       "        vertical-align: top;\n",
       "    }\n",
       "\n",
       "    .dataframe thead th {\n",
       "        text-align: right;\n",
       "    }\n",
       "</style>\n",
       "<table border=\"1\" class=\"dataframe\">\n",
       "  <thead>\n",
       "    <tr style=\"text-align: right;\">\n",
       "      <th></th>\n",
       "      <th>r</th>\n",
       "      <th>alpha</th>\n",
       "      <th>ROUGE Forget</th>\n",
       "      <th>Prob. Forget</th>\n",
       "      <th>Truth Ratio Forget</th>\n",
       "      <th>ROUGE Retain</th>\n",
       "      <th>Prob. Retain</th>\n",
       "    </tr>\n",
       "  </thead>\n",
       "  <tbody>\n",
       "    <tr>\n",
       "      <th>0</th>\n",
       "      <td>Full</td>\n",
       "      <td>Full</td>\n",
       "      <td>0.201400</td>\n",
       "      <td>0.055003</td>\n",
       "      <td>0.814520</td>\n",
       "      <td>0.695517</td>\n",
       "      <td>0.774193</td>\n",
       "    </tr>\n",
       "    <tr>\n",
       "      <th>1</th>\n",
       "      <td>256</td>\n",
       "      <td>512</td>\n",
       "      <td>0.331686</td>\n",
       "      <td>0.282246</td>\n",
       "      <td>0.716789</td>\n",
       "      <td>0.752455</td>\n",
       "      <td>0.800025</td>\n",
       "    </tr>\n",
       "    <tr>\n",
       "      <th>5</th>\n",
       "      <td>64</td>\n",
       "      <td>256</td>\n",
       "      <td>0.659229</td>\n",
       "      <td>0.725987</td>\n",
       "      <td>0.607645</td>\n",
       "      <td>0.931128</td>\n",
       "      <td>0.932313</td>\n",
       "    </tr>\n",
       "    <tr>\n",
       "      <th>4</th>\n",
       "      <td>256</td>\n",
       "      <td>256</td>\n",
       "      <td>0.681055</td>\n",
       "      <td>0.737396</td>\n",
       "      <td>0.604429</td>\n",
       "      <td>0.937420</td>\n",
       "      <td>0.934949</td>\n",
       "    </tr>\n",
       "    <tr>\n",
       "      <th>2</th>\n",
       "      <td>128</td>\n",
       "      <td>256</td>\n",
       "      <td>0.682897</td>\n",
       "      <td>0.731295</td>\n",
       "      <td>0.605706</td>\n",
       "      <td>0.931191</td>\n",
       "      <td>0.932106</td>\n",
       "    </tr>\n",
       "    <tr>\n",
       "      <th>3</th>\n",
       "      <td>16</td>\n",
       "      <td>32</td>\n",
       "      <td>0.949886</td>\n",
       "      <td>0.991656</td>\n",
       "      <td>0.539787</td>\n",
       "      <td>0.982276</td>\n",
       "      <td>0.988570</td>\n",
       "    </tr>\n",
       "  </tbody>\n",
       "</table>\n",
       "</div>"
      ],
      "text/plain": [
       "      r alpha  ROUGE Forget  Prob. Forget  Truth Ratio Forget  ROUGE Retain  \\\n",
       "0  Full  Full      0.201400      0.055003            0.814520      0.695517   \n",
       "1   256   512      0.331686      0.282246            0.716789      0.752455   \n",
       "5    64   256      0.659229      0.725987            0.607645      0.931128   \n",
       "4   256   256      0.681055      0.737396            0.604429      0.937420   \n",
       "2   128   256      0.682897      0.731295            0.605706      0.931191   \n",
       "3    16    32      0.949886      0.991656            0.539787      0.982276   \n",
       "\n",
       "   Prob. Retain  \n",
       "0      0.774193  \n",
       "1      0.800025  \n",
       "5      0.932313  \n",
       "4      0.934949  \n",
       "2      0.932106  \n",
       "3      0.988570  "
      ]
     },
     "execution_count": 60,
     "metadata": {},
     "output_type": "execute_result"
    }
   ],
   "source": [
    "models_df[['r','alpha','ROUGE Forget','Prob. Forget','Truth Ratio Forget','ROUGE Retain','Prob. Retain']].sort_values(by='ROUGE Forget')"
   ]
  }
 ],
 "metadata": {
  "kernelspec": {
   "display_name": "permu_env",
   "language": "python",
   "name": "python3"
  },
  "language_info": {
   "codemirror_mode": {
    "name": "ipython",
    "version": 3
   },
   "file_extension": ".py",
   "mimetype": "text/x-python",
   "name": "python",
   "nbconvert_exporter": "python",
   "pygments_lexer": "ipython3",
   "version": "3.12.3"
  }
 },
 "nbformat": 4,
 "nbformat_minor": 5
}
