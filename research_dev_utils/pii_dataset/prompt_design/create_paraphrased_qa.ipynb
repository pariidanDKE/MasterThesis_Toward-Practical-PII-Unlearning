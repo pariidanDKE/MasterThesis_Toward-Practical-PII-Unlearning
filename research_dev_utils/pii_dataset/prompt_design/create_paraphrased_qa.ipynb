{
 "cells": [
  {
   "cell_type": "markdown",
   "id": "2671cb24",
   "metadata": {},
   "source": [
    "### Paraphrase QA Pairs\n",
    "\n",
    "This notebook contains code that analyzes the results of Generating specfic types of data for my PII dataset. Here the data generated paraphrased QA pairs, for an evaluation task and also generalizability through further training of the model.\n",
    "\n",
    "The prompt engineering and subsequent implementation can be found at ../prompt_models/prompt_gen_utils and ../prompt_models/generated_paraphrased_qa.py respectively."
   ]
  },
  {
   "cell_type": "code",
   "execution_count": 3,
   "id": "57caf07e",
   "metadata": {},
   "outputs": [],
   "source": [
    "import pandas as pd\n",
    "\n",
    "para_df = pd.read_csv('/projects/0/hpmlprjs/LLM/danp/UGBench/my_files/pii_dataset/data/generated_data/ParaphraseQA.csv')"
   ]
  },
  {
   "cell_type": "code",
   "execution_count": 4,
   "id": "2ad4c270",
   "metadata": {},
   "outputs": [],
   "source": [
    "import ast\n",
    "para_df['user_profile'] = para_df['user_profile'].apply(ast.literal_eval)\n",
    "para_df['generated_text'] = para_df['generated_text'].apply(ast.literal_eval)"
   ]
  },
  {
   "cell_type": "code",
   "execution_count": 5,
   "id": "19946172",
   "metadata": {},
   "outputs": [
    {
     "name": "stdout",
     "output_type": "stream",
     "text": [
      "Which financial institution is responsible for handling Matteo Vittorio Farnesi's banking activities?\n",
      "Matteo Vittorio Farnesi's banking activities are primarily managed through Banca Monteblu.\n",
      "--------\n",
      "{'paraphrased_qa_pairs': [{'paraphrased_question': \"What bank is in charge of Matteo Vittorio Farnesi's financial transactions?\", 'paraphrased_answer': \"Banca Monteblu is the main financial institution that oversees Matteo Vittorio Farnesi's banking activities.\"}, {'paraphrased_question': 'Which bank manages the financial affairs of Matteo Vittorio Farnesi?', 'paraphrased_answer': 'Matteo Vittorio Farnesi conducts his primary banking through Banca Monteblu.'}, {'paraphrased_question': 'Where does Matteo Vittorio Farnesi carry out most of his banking?', 'paraphrased_answer': \"Banca Monteblu is the financial institution primarily responsible for Matteo Vittorio Farnesi's banking.\"}, {'paraphrased_question': 'What is the name of the bank where Matteo Vittorio Farnesi manages his accounts?', 'paraphrased_answer': \"The primary bank for Matteo Vittorio Farnesi's financial activities is Banca Monteblu.\"}, {'paraphrased_question': 'Which bank does Matteo Vittorio Farnesi use for his main banking needs?', 'paraphrased_answer': \"Matteo Vittorio Farnesi's banking is primarily handled by Banca Monteblu.\"}]}\n"
     ]
    }
   ],
   "source": [
    "print(para_df['user_profile'].values[2]['question'])\n",
    "print(para_df['user_profile'].values[2]['answer'])\n",
    "print('--------')\n",
    "\n",
    "print(para_df['generated_text'].values[2])"
   ]
  },
  {
   "cell_type": "code",
   "execution_count": 6,
   "id": "25b6ebf6",
   "metadata": {},
   "outputs": [],
   "source": [
    "for idx,row in para_df.iterrows():\n",
    "    paraphrased_qa_pairs = row['generated_text']['paraphrased_qa_pairs']\n",
    "    para_df.at[idx,'user_profile']['paraphrased_qa_pairs'] = paraphrased_qa_pairs\n"
   ]
  },
  {
   "cell_type": "code",
   "execution_count": 7,
   "id": "9381d0d6",
   "metadata": {},
   "outputs": [],
   "source": [
    "import pandas as pd\n",
    "\n",
    "user_profile_df = pd.json_normalize(para_df['user_profile'])\n",
    "\n",
    "result_df = pd.concat([para_df.drop('user_profile', axis=1), user_profile_df], axis=1)\n",
    "result_df.drop(columns=['prompt', 'generated_text'],inplace=True)\n",
    "result_df.columns = [col.replace('user_profile.','').replace('qa_config.','') for col in result_df.columns]"
   ]
  },
  {
   "cell_type": "code",
   "execution_count": 8,
   "id": "cdde58c2",
   "metadata": {},
   "outputs": [],
   "source": [
    "result_df['pii_picked_dict'] = None  # You can also use np.nan or an empty list, depending on your preference.\n",
    "\n",
    "for idx, row in result_df.iterrows():\n",
    "    picked_dicts = []\n",
    "\n",
    "    for pii in row['pii_picked']:\n",
    "        tmp_dict = {}\n",
    "        tmp_dict['type'] = pii\n",
    "       \n",
    "        tmp_dict['value'] = row[pii] if pii in row else None  # safety check\n",
    "        picked_dicts.append(tmp_dict)\n",
    "\n",
    "    result_df.at[idx, 'pii_picked_dict'] = picked_dicts"
   ]
  },
  {
   "cell_type": "code",
   "execution_count": 84,
   "id": "a669c331",
   "metadata": {},
   "outputs": [
    {
     "data": {
      "text/plain": [
       "[{'type': 'hospital_name', 'value': 'Ospedale San Matteo'},\n",
       " {'type': 'disease', 'value': \"Peyronie's Disease\"},\n",
       " {'type': 'treatment', 'value': 'Collagenase Clostridium Histolyticum'}]"
      ]
     },
     "execution_count": 84,
     "metadata": {},
     "output_type": "execute_result"
    }
   ],
   "source": [
    "result_df['pii_picked_dict'].values[0]"
   ]
  },
  {
   "cell_type": "code",
   "execution_count": 14,
   "id": "58f44a61",
   "metadata": {},
   "outputs": [],
   "source": [
    "import pandas as pd\n",
    "import json\n",
    "import ast\n",
    "\n",
    "def verify_pii_in_paraphrased_answers(df,paraphrased_col='paraphrased_qa_pairs'):\n",
    "    \"\"\"\n",
    "    Verifies that all PII values in pii_picked_dict are present in all paraphrased answers\n",
    "    Uses a smarter approach to check if words in the PII value are present in the answer\n",
    "    \n",
    "    Args:\n",
    "        df: DataFrame with columns 'pii_picked_dict' and 'paraphrased_qa_pairs'\n",
    "    \n",
    "    Returns:\n",
    "        DataFrame with verification results\n",
    "    \"\"\"\n",
    "    results = []\n",
    "    \n",
    "    for index, row in df.iterrows():\n",
    "        # Get PII values\n",
    "        try:\n",
    "            # Handle string representation of list of dicts\n",
    "            if isinstance(row['pii_picked_dict'], str):\n",
    "                pii_dict = ast.literal_eval(row['pii_picked_dict'])\n",
    "            else:\n",
    "                pii_dict = row['pii_picked_dict']\n",
    "            \n",
    "            pii_values = [item['value'] for item in pii_dict]\n",
    "            \n",
    "            # Get paraphrased answers\n",
    "            if isinstance(row[paraphrased_col], str):\n",
    "                qa_pairs = json.loads(row[paraphrased_col].replace(\"'\", '\"'))\n",
    "            else:\n",
    "                qa_pairs = row[paraphrased_col]\n",
    "            \n",
    "            # If qa_pairs is a dict with 'paraphrased_qa_pairs' key\n",
    "            if isinstance(qa_pairs, dict) and paraphrased_col in qa_pairs:\n",
    "                qa_pairs = qa_pairs[paraphrased_col]\n",
    "            \n",
    "            # Check each paraphrased answer for each PII value\n",
    "            for i, qa_pair in enumerate(qa_pairs):\n",
    "                answer = qa_pair['paraphrased_answer']\n",
    "                for pii_value in pii_values:\n",
    "                    # Standard check - exact match\n",
    "                    exact_match = pii_value in answer\n",
    "                    \n",
    "                    # Smart check - split PII value into words and check if all words are present\n",
    "                    # Clean up PII value by removing punctuation and splitting into words\n",
    "                    import re\n",
    "                    clean_pii = re.sub(r'[^\\w\\s]', ' ', pii_value)  # Replace punctuation with spaces\n",
    "                    pii_words = [word.strip().lower() for word in clean_pii.split() if word.strip()]\n",
    "                    \n",
    "                    # Check if all words are in the answer (case insensitive)\n",
    "                    answer_lower = answer.lower()\n",
    "                    all_words_present = all(word in answer_lower for word in pii_words)\n",
    "                    \n",
    "                    # A PII is considered present if either there's an exact match or all words are present\n",
    "                    is_present = exact_match or all_words_present\n",
    "                    \n",
    "                    results.append({\n",
    "                        'row_index': index,\n",
    "                        'paraphrase_index': i,\n",
    "                        'pii_value': pii_value,\n",
    "                        'exact_match': exact_match,\n",
    "                        'all_words_present': all_words_present,\n",
    "                        'is_present': is_present,\n",
    "                        'paraphrased_answer': answer\n",
    "                    })\n",
    "        except Exception as e:\n",
    "            results.append({\n",
    "                'row_index': index,\n",
    "                'paraphrase_index': 'ERROR',\n",
    "                'pii_value': 'ERROR',\n",
    "                'exact_match': False,\n",
    "                'all_words_present': False,\n",
    "                'is_present': False,\n",
    "                'paraphrased_answer': f'Error processing row: {str(e)}'\n",
    "            })\n",
    "    \n",
    "    results_df = pd.DataFrame(results)\n",
    "    return results_df\n",
    "\n",
    "def summarize_results(results_df):\n",
    "    \"\"\"\n",
    "    Summarizes the verification results with additional insights on match types\n",
    "    \n",
    "    Args:\n",
    "        results_df: DataFrame with verification results\n",
    "    \n",
    "    Returns:\n",
    "        Summary DataFrame and list of rows with missing PII values\n",
    "    \"\"\"\n",
    "    # Summary of missing PII values\n",
    "    missing_pii = results_df[results_df['is_present'] == False]\n",
    "    \n",
    "    # Group by row_index to see which rows have issues\n",
    "    row_summary = results_df.groupby('row_index')['is_present'].all()\n",
    "    \n",
    "    # Count of rows with all PII values present\n",
    "    valid_rows = row_summary.sum()\n",
    "    total_rows = len(row_summary)\n",
    "    \n",
    "    # Get counts by match type\n",
    "    exact_matches = results_df['exact_match'].sum()\n",
    "    word_matches = results_df['all_words_present'].sum() - results_df['exact_match'].sum()\n",
    "    no_matches = len(results_df) - results_df['is_present'].sum()\n",
    "    \n",
    "    print(f\"Summary: {valid_rows} out of {total_rows} rows have all PII values present in all paraphrased answers\")\n",
    "    print(f\"Match types:\")\n",
    "    print(f\"  - Exact matches: {exact_matches}\")\n",
    "    print(f\"  - Word-level matches (not exact): {word_matches}\")\n",
    "    print(f\"  - No matches: {no_matches}\")\n",
    "    \n",
    "    if len(missing_pii) > 0:\n",
    "        print(f\"\\nFound {len(missing_pii)} instances where PII values are missing from paraphrased answers\")\n",
    "        \n",
    "        # Show examples of missing PII\n",
    "        if len(missing_pii) > 0:\n",
    "            print(\"\\nExamples of missing PII:\")\n",
    "            examples = missing_pii.head(3)\n",
    "            for _, row in examples.iterrows():\n",
    "                print(f\"Row {row['row_index']}, Paraphrase {row['paraphrase_index']}\")\n",
    "                print(f\"PII Value: '{row['pii_value']}'\")\n",
    "                print(f\"Paraphrased Answer: '{row['paraphrased_answer']}'\")\n",
    "                print(\"---\")\n",
    "        \n",
    "        return missing_pii\n",
    "    else:\n",
    "        print(\"All PII values are present in all paraphrased answers!\")\n",
    "        return None\n"
   ]
  },
  {
   "cell_type": "code",
   "execution_count": 15,
   "id": "d8553913",
   "metadata": {},
   "outputs": [
    {
     "name": "stdout",
     "output_type": "stream",
     "text": [
      "Summary: 2237 out of 2250 rows have all PII values present in all paraphrased answers\n",
      "Match types:\n",
      "  - Exact matches: 15163\n",
      "  - Word-level matches (not exact): 279\n",
      "  - No matches: 13\n",
      "\n",
      "Found 13 instances where PII values are missing from paraphrased answers\n",
      "\n",
      "Examples of missing PII:\n",
      "Row 7, Paraphrase 2\n",
      "PII Value: '04/11/1981'\n",
      "Paraphrased Answer: 'Matteo Vittorio Farnesi was born on the 11th of April, 1981.'\n",
      "---\n",
      "Row 26, Paraphrase 2\n",
      "PII Value: '05/03/1989'\n",
      "Paraphrased Answer: 'Ebba Vilhelm Lindqvist was born on the 5th of March, 1989.'\n",
      "---\n",
      "Row 257, Paraphrase 2\n",
      "PII Value: '02/07/1984'\n",
      "Paraphrased Answer: 'Tamati Hinepura Rangi was born on the 2nd of July, 1984.'\n",
      "---\n"
     ]
    }
   ],
   "source": [
    "res = verify_pii_in_paraphrased_answers(result_df)\n",
    "missing_pii = summarize_results(res)"
   ]
  },
  {
   "cell_type": "code",
   "execution_count": 16,
   "id": "b132d9c9",
   "metadata": {},
   "outputs": [
    {
     "name": "stdout",
     "output_type": "stream",
     "text": [
      "\n",
      "Examples of missing PII values:\n",
      "Row 7, Paraphrase 2\n",
      "PII Value: '04/11/1981'\n",
      "Paraphrased Answer: 'Matteo Vittorio Farnesi was born on the 11th of April, 1981.'\n",
      "---\n",
      "Row 26, Paraphrase 2\n",
      "PII Value: '05/03/1989'\n",
      "Paraphrased Answer: 'Ebba Vilhelm Lindqvist was born on the 5th of March, 1989.'\n",
      "---\n",
      "Row 257, Paraphrase 2\n",
      "PII Value: '02/07/1984'\n",
      "Paraphrased Answer: 'Tamati Hinepura Rangi was born on the 2nd of July, 1984.'\n",
      "---\n",
      "Row 272, Paraphrase 1\n",
      "PII Value: '17/03/1977'\n",
      "Paraphrased Answer: 'Ida Lillian Karlsen was born on the 17th of March, 1977.'\n",
      "---\n",
      "Row 394, Paraphrase 1\n",
      "PII Value: '£1,342.17 on 13/08/2021'\n",
      "Paraphrased Answer: 'The latest financial record for Hector Alastair Pembroke is an amount of £1,342.17, dated 13/08/2021.'\n",
      "---\n",
      "Row 492, Paraphrase 2\n",
      "PII Value: '18/06/1987'\n",
      "Paraphrased Answer: 'Avery Quinn Langston was born on the 18th of June, 1987.'\n",
      "---\n",
      "Row 1099, Paraphrase 2\n",
      "PII Value: '03/09/1984'\n",
      "Paraphrased Answer: 'Viktor Fyodorovich Lopatin was born on the 9th of March, 1984.'\n",
      "---\n",
      "Row 1210, Paraphrase 3\n",
      "PII Value: 'Agricultural Consultant at GroenVeld B.V.'\n",
      "Paraphrased Answer: 'Jorrit Wessel van der Meer is working as an Agricultural Consultant for GroenVeld B.V. Contact details include an email address of j.vandermeer79@xs4all.nl and a phone number of 02 - 887 - 1122.'\n",
      "---\n",
      "Row 1251, Paraphrase 2\n",
      "PII Value: '17/04/1976'\n",
      "Paraphrased Answer: 'Aroha Te Ngira was born on the 17th of April, 1976.'\n",
      "---\n",
      "Row 1313, Paraphrase 2\n",
      "PII Value: '14/09/1978'\n",
      "Paraphrased Answer: 'Lars Heinrich Reichenbach was born on the 14th of September, 1978.'\n",
      "---\n",
      "Row 1749, Paraphrase 3\n",
      "PII Value: '28/09/1988'\n",
      "Paraphrased Answer: 'Renske Harmen Boonstra was born on the 28th of September, 1988.'\n",
      "---\n",
      "Row 2197, Paraphrase 2\n",
      "PII Value: '14/09/1981'\n",
      "Paraphrased Answer: 'Tamati Hone Ririnui was born on the 14th of September, 1981.'\n",
      "---\n",
      "Row 2233, Paraphrase 2\n",
      "PII Value: '08/11/1985'\n",
      "Paraphrased Answer: 'Léa Moreau was officially born on the 11th of August, 1985.'\n",
      "---\n"
     ]
    }
   ],
   "source": [
    "if missing_pii is not None:\n",
    "        print(\"\\nExamples of missing PII values:\")\n",
    "        for _, row in missing_pii.head(100).iterrows():\n",
    "            print(f\"Row {row['row_index']}, Paraphrase {row['paraphrase_index']}\")\n",
    "            print(f\"PII Value: '{row['pii_value']}'\")\n",
    "            print(f\"Paraphrased Answer: '{row['paraphrased_answer']}'\")\n",
    "            print(\"---\")\n"
   ]
  },
  {
   "cell_type": "code",
   "execution_count": 12,
   "id": "8b7b1b57",
   "metadata": {},
   "outputs": [],
   "source": [
    "result_df.loc[54]['paraphrased_qa_pairs'][0]['paraphrased_answer'] = 'Rangi Tuhoe Hinerangi is undergoing medical treatment at Manurewa Medical Centre, and their care is being managed by Dr. Tane Hōnau.'\n",
    "result_df.loc[54]['paraphrased_qa_pairs'][1]['paraphrased_answer'] = 'Rangi Tuhoe Hinerangi is being treated at Manurewa Medical Centre, and the person overseeing their care is Dr. Tane Hōnau.'\n",
    "result_df.loc[54]['paraphrased_qa_pairs'][2]['paraphrased_answer'] = 'Rangi Tuhoe Hinerangi is receiving their medical treatment at Manurewa Medical Centre, with their care supervised by Dr. Tane Hōnau.'\n",
    "result_df.loc[54]['paraphrased_qa_pairs'][3]['paraphrased_answer'] = 'Rangi Tuhoe Hinerangi is under treatment at Manurewa Medical Centre, and the doctor responsible for their care is Dr. Tane Hōnau.'\n",
    "result_df.loc[54]['paraphrased_qa_pairs'][4]['paraphrased_answer'] = 'Rangi Tuhoe Hinerangi is receiving medical treatment at Manurewa Medical Centre, and their treatment is being overseen by Dr. Tane Hōnau.'\n",
    "result_df.loc[2202]['paraphrased_qa_pairs'][0]['paraphrased_answer'] = 'Lena Lotte Thiele is currently undergoing medical treatment at StadtKlinik Berlin-Schöneberg.'\n",
    "result_df.loc[2202]['paraphrased_qa_pairs'][1]['paraphrased_answer'] = ' Lena Lotte Thiele is currently being treated at StadtKlinik Berlin-Schöneberg.'\n",
    "result_df.loc[2202]['paraphrased_qa_pairs'][2]['paraphrased_answer'] = 'Lena Lotte Thiele is currently under medical care at StadtKlinik Berlin-Schöneberg.'\n",
    "result_df.loc[2202]['paraphrased_qa_pairs'][3]['paraphrased_answer'] = 'Lena Lotte Thiele is currently receiving treatment at StadtKlinik Berlin-Schöneberg.'\n",
    "result_df.loc[2202]['paraphrased_qa_pairs'][4]['paraphrased_answer'] = 'Lena Lotte Thiele is currently receiving care at StadtKlinik Berlin-Schöneberg.'\n"
   ]
  },
  {
   "cell_type": "code",
   "execution_count": 17,
   "id": "b0ed33e6",
   "metadata": {},
   "outputs": [
    {
     "name": "stdout",
     "output_type": "stream",
     "text": [
      "JSON file created with 2250 objects\n"
     ]
    }
   ],
   "source": [
    "import pandas as pd\n",
    "import json\n",
    "\n",
    "json_list = result_df.to_dict(orient='records')\n",
    "file_path = '/projects/0/hpmlprjs/LLM/danp/UGBench/my_files/pii_dataset/data/qa_pair_with_para.json'\n",
    "with open(file_path, 'w', encoding='utf-8') as f:\n",
    "    json.dump(json_list, f, ensure_ascii=False, indent=4)\n",
    "\n",
    "print(f\"JSON file created with {len(json_list)} objects\")"
   ]
  },
  {
   "cell_type": "code",
   "execution_count": 28,
   "id": "a103a32b",
   "metadata": {},
   "outputs": [],
   "source": [
    "import pandas as pd\n",
    "import json\n",
    "\n",
    "file_path = '/projects/0/hpmlprjs/LLM/danp/UGBench/my_files/pii_dataset/data/qa_pair_with_para.json'\n",
    "\n",
    "with open(file_path, 'r', encoding='utf-8') as f:\n",
    "    data = json.load(f)\n",
    "# Convert to DataFrame\n",
    "qa_df = pd.DataFrame(data)"
   ]
  },
  {
   "cell_type": "markdown",
   "id": "d834b54f",
   "metadata": {},
   "source": [
    "More paraphrased QA: \n",
    "\n"
   ]
  },
  {
   "cell_type": "code",
   "execution_count": 44,
   "id": "1d9ea63f",
   "metadata": {},
   "outputs": [],
   "source": [
    "# import pandas as pd\n",
    "# import json\n",
    "\n",
    "# file_path = '/projects/0/hpmlprjs/LLM/danp/UGBench/my_files/pii_dataset/data/qa_pairs_full.json'\n",
    "\n",
    "# with open(file_path, 'r', encoding='utf-8') as f:\n",
    "#     data = json.load(f)\n",
    "# # Convert to DataFrame\n",
    "# qa_df = pd.DataFrame(data)"
   ]
  },
  {
   "cell_type": "code",
   "execution_count": 29,
   "id": "ef5e0802",
   "metadata": {},
   "outputs": [],
   "source": [
    "more_df = pd.read_csv('/projects/0/hpmlprjs/LLM/danp/UGBench/my_files/pii_dataset/data/generated_data/MoreParaphraseQA.csv')"
   ]
  },
  {
   "cell_type": "code",
   "execution_count": 30,
   "id": "f37b39a4",
   "metadata": {},
   "outputs": [],
   "source": [
    "import ast\n",
    "more_df['user_profile'] = more_df['user_profile'].apply(ast.literal_eval)\n",
    "more_df['generated_text'] = more_df['generated_text'].apply(ast.literal_eval)\n",
    "\n",
    "for idx,row in more_df.iterrows():\n",
    "    paraphrased_qa_pairs = row['generated_text']\n",
    "    more_df.at[idx,'user_profile']['more_paraphrased_qa'] = paraphrased_qa_pairs\n",
    "\n",
    "import pandas as pd\n",
    "user_profile_df = pd.json_normalize(more_df['user_profile'])\n",
    "result_df = pd.concat([more_df.drop('user_profile', axis=1), user_profile_df], axis=1)\n",
    "result_df.drop(columns=['prompt', 'generated_text'],inplace=True)\n",
    "result_df.columns = [col.replace('more_paraphrased_qa.','').replace('qa_config.','') for col in result_df.columns]\n"
   ]
  },
  {
   "cell_type": "code",
   "execution_count": 31,
   "id": "71f8f6b3",
   "metadata": {},
   "outputs": [],
   "source": [
    "qa_df['more_paraphrased_qa_pairs'] = result_df['more_paraphrased_qa_pairs']"
   ]
  },
  {
   "cell_type": "code",
   "execution_count": 39,
   "id": "3040bb4b",
   "metadata": {},
   "outputs": [
    {
     "name": "stdout",
     "output_type": "stream",
     "text": [
      "Summary: 2250 out of 2250 rows have all PII values present in all paraphrased answers\n",
      "Match types:\n",
      "  - Exact matches: 15169\n",
      "  - Word-level matches (not exact): 286\n",
      "  - No matches: 0\n",
      "All PII values are present in all paraphrased answers!\n"
     ]
    }
   ],
   "source": [
    "res = verify_pii_in_paraphrased_answers(qa_df,paraphrased_col='more_paraphrased_qa_pairs')\n",
    "missing_pii = summarize_results(res)"
   ]
  },
  {
   "cell_type": "code",
   "execution_count": 40,
   "id": "696e75ab",
   "metadata": {},
   "outputs": [],
   "source": [
    "if missing_pii is not None:\n",
    "        print(\"\\nExamples of missing PII values:\")\n",
    "        for _, row in missing_pii.head(100).iterrows():\n",
    "            print(f\"Row {row['row_index']}, Paraphrase {row['paraphrase_index']}\")\n",
    "            print(f\"PII Value: '{row['pii_value']}'\")\n",
    "            print(f\"Paraphrased Answer: '{row['paraphrased_answer']}'\")\n",
    "            print(\"---\")\n"
   ]
  },
  {
   "cell_type": "code",
   "execution_count": 37,
   "id": "2108ffc3",
   "metadata": {},
   "outputs": [],
   "source": [
    "# Assuming 'result_df' is your pandas DataFrame containing the synthetic data.\n",
    "# Each line below corrects a specific entry in the 'paraphrased_qa_pairs' column.\n",
    "\n",
    "# Corrections for Row 54, PII Value: 'Dr. Tane Hōnau'\n",
    "qa_df.loc[54]['more_paraphrased_qa_pairs'][0]['paraphrased_answer'] = 'The medical treatment for Rangi Tuhoe Hinerangi is being handled by Dr. Tane Hōnau at Manurewa Medical Centre.' # Corrected spelling of Hōnau\n",
    "qa_df.loc[54]['more_paraphrased_qa_pairs'][1]['paraphrased_answer'] = 'Rangi Tuhoe Hinerangi is being looked after at Manurewa Medical Centre, with Dr. Tane Hōnau overseeing their medical care.' # Corrected spelling of Hōnau\n",
    "qa_df.loc[54]['more_paraphrased_qa_pairs'][2]['paraphrased_answer'] = 'Rangi Tuhoe Hinerangi is being treated at Manurewa Medical Centre, and their treatment is being supervised by Dr. Tane Hōnau.' # Corrected spelling of Hōnau\n",
    "qa_df.loc[54]['more_paraphrased_qa_pairs'][3]['paraphrased_answer'] = 'Rangi Tuhoe Hinerangi is receiving their medical care at Manurewa Medical Centre, and Dr. Tane Hōnau is in charge of their treatment.' # Corrected spelling of Hōnau\n",
    "qa_df.loc[54]['more_paraphrased_qa_pairs'][4]['paraphrased_answer'] = 'Rangi Tuhoe Hinerangi is being treated at Manurewa Medical Centre, with their care managed by Dr. Tane Hōnau.' # Corrected spelling of Hōnau\n",
    "\n",
    "# Corrections for Row 105, PII Value: 'Product Designer at Lumière Solutions'\n",
    "qa_df.loc[105]['more_paraphrased_qa_pairs'][0]['paraphrased_answer'] = 'Camille Éloïse Duverger holds the position of Product Designer at Lumière Solutions. For communication, her email is c.duverger87@orange.fr and her phone number is 020 - 856 - 2345.' # Corrected spelling of Lumière\n",
    "qa_df.loc[105]['more_paraphrased_qa_pairs'][1]['paraphrased_answer'] = 'Camille Éloïse Duverger is a Product Designer at Lumière Solutions. You can reach her through the email address c.duverger87@orange.fr or by calling 020 - 856 - 2345.' # Corrected spelling of Lumière\n",
    "qa_df.loc[105]['more_paraphrased_qa_pairs'][2]['paraphrased_answer'] = 'Camille Éloïse Duverger works as a Product Designer at Lumière Solutions. Her contact details include the email c.duverger87@orange.fr and the phone number 020 - 856 - 2345.' # Corrected spelling of Lumière\n",
    "qa_df.loc[105]['more_paraphrased_qa_pairs'][3]['paraphrased_answer'] = 'Camille Éloïse Duverger is a Product Designer at Lumière Solutions. You may contact her via email at c.duverger87@orange.fr or through the phone number 020 - 856 - 2345.' # Corrected spelling of Lumière\n",
    "qa_df.loc[105]['more_paraphrased_qa_pairs'][4]['paraphrased_answer'] = 'Camille Éloïse Duverger is a Product Designer at Lumière Solutions. Her contact information includes the email address c.duverger87@orange.fr and the phone number 020 - 856 - 2345.' # Corrected spelling of Lumière\n",
    "\n",
    "# Correction for Row 581, PII Value: '05/03/1992'\n",
    "# The paraphrased answer already correctly represents the date 05/03/1992 as '3rd of May, 1992'.\n",
    "# This line explicitly sets the answer to its current, correct value based on the PII.\n",
    "qa_df.loc[581]['more_paraphrased_qa_pairs'][2]['paraphrased_answer'] = 'Lorna Elspeth Grant was born on the 3rd of May, 1992, according to the available information.'\n",
    "\n",
    "# Corrections for Row 692, PII Value: 'Rue de la Confédération 35'\n",
    "qa_df.loc[692]['more_paraphrased_qa_pairs'][0]['paraphrased_answer'] = 'Lorenz Edouard Frick holds the position of Product Designer at SwissForma, and the company is based at Rue de la Confédération 35. For professional communication, he can be contacted at l.frick82@bluewin.ch.' # Corrected spelling of Confédération\n",
    "qa_df.loc[692]['more_paraphrased_qa_pairs'][1]['paraphrased_answer'] = 'Lorenz Edouard Frick is a Product Designer at SwissForma, which is located at Rue de la Confédération 35. His professional email address is l.frick82@bluewin.ch.' # Corrected spelling of Confédération\n",
    "qa_df.loc[692]['more_paraphrased_qa_pairs'][2]['paraphrased_answer'] = 'Lorenz Edouard Frick is employed as a Product Designer at SwissForma, and the company is located at Rue de la Confédération 35. For professional communication, he can be contacted at l.frick82@bluewin.ch.' # Corrected spelling of Confédération\n",
    "qa_df.loc[692]['more_paraphrased_qa_pairs'][3]['paraphrased_answer'] = 'Lorenz Edouard Frick works as a Product Designer at SwissForma, which is based at Rue de la Confédération 35. He can be reached for work-related communication at l.frick82@bluewin.ch.' # Corrected spelling of Confédération\n",
    "qa_df.loc[692]['more_paraphrased_qa_pairs'][4]['paraphrased_answer'] = 'Lorenz Edouard Frick is a Product Designer at SwissForma, located at Rue de la Confédération 35. He can be contacted at l.frick82@bluewin.ch for professional communication.' # Corrected spelling of Confédération\n",
    "\n",
    "# Corrections for Row 1241, PII Value: 'Skjæråsveien 12'\n",
    "qa_df.loc[1241]['more_paraphrased_qa_pairs'][0]['paraphrased_answer'] = 'Elin Sigrid Høst\\'s registered residence is listed as Skjæråsveien 12.' # Corrected spelling of Skjæråsveien\n",
    "qa_df.loc[1241]['more_paraphrased_qa_pairs'][1]['paraphrased_answer'] = 'The residence address registered for Elin Sigrid Høst is Skjæråsveien 12.' # Corrected spelling of Skjæråsveien\n",
    "qa_df.loc[1241]['more_paraphrased_qa_pairs'][2]['paraphrased_answer'] = 'Elin Sigrid Høst is officially recorded as residing at Skjæråsveien 12.' # Corrected spelling of Skjæråsveien\n",
    "qa_df.loc[1241]['more_paraphrased_qa_pairs'][3]['paraphrased_answer'] = 'According to her records, Elin Sigrid Høst\\'s home address is Skjæråsveien 12.' # Corrected spelling of Skjæråsveien\n",
    "qa_df.loc[1241]['more_paraphrased_qa_pairs'][4]['paraphrased_answer'] = 'Elin Sigrid Høst\\'s residence address, as documented, is Skjæråsveien 12.' # Corrected spelling of Skjæråsveien\n",
    "\n",
    "# Corrections for Row 2249, PII Value: 'Simon Müller'\n",
    "qa_df.loc[2249]['more_paraphrased_qa_pairs'][0]['paraphrased_answer'] = 'Lia Mara Zemp’s credit card number is 4024-0071-4321-9876, and Simon Müller provides her with financial planning and advisory services.' # Corrected spelling of Müller\n",
    "qa_df.loc[2249]['more_paraphrased_qa_pairs'][1]['paraphrased_answer'] = 'The credit card number of Lia Mara Zemp is 4024-0071-4321-9876, and she seeks financial guidance from Simon Müller.' # Corrected spelling of Müller\n",
    "qa_df.loc[2249]['more_paraphrased_qa_pairs'][2]['paraphrased_answer'] = 'Lia Mara Zemp uses the credit card number 4024-0071-4321-9876, and she receives financial support and planning from Simon Müller.' # Corrected spelling of Müller\n",
    "qa_df.loc[2249]['more_paraphrased_qa_pairs'][3]['paraphrased_answer'] = 'Lia Mara Zemp’s credit card number is 4024-0071-4321-9876, and Simon Müller is the financial consultant who helps her with her financial strategy.' # Corrected spelling of Müller\n",
    "qa_df.loc[2249]['more_paraphrased_qa_pairs'][4]['paraphrased_answer'] = 'The credit card number for Lia Mara Zemp is 4024-0071-4321-9876, and Simon Müller serves as her financial consultant for all financial planning.' # Corrected spelling of Müller\n",
    "\n",
    "\n",
    "\n",
    "qa_df.loc[581]['more_paraphrased_qa_pairs'][2]['paraphrased_answer'] = 'Lorna Elspeth Grant was born on 05/03/1992, according to the available information.' # Corrected spelling of Müller\n"
   ]
  },
  {
   "cell_type": "code",
   "execution_count": 41,
   "id": "1366b987",
   "metadata": {},
   "outputs": [
    {
     "name": "stdout",
     "output_type": "stream",
     "text": [
      "JSON file created with 2250 objects\n"
     ]
    }
   ],
   "source": [
    "import pandas as pd\n",
    "import json\n",
    "\n",
    "json_list = qa_df.to_dict(orient='records')\n",
    "file_path = '/projects/0/hpmlprjs/LLM/danp/UGBench/my_files/pii_dataset/data/qa_pairs_full.json'\n",
    "with open(file_path, 'w', encoding='utf-8') as f:\n",
    "    json.dump(json_list, f, ensure_ascii=False, indent=4)\n",
    "\n",
    "print(f\"JSON file created with {len(json_list)} objects\")"
   ]
  },
  {
   "cell_type": "code",
   "execution_count": 74,
   "id": "10200709",
   "metadata": {},
   "outputs": [],
   "source": [
    "full_list = []\n",
    "\n",
    "\n",
    "for idx,row in qa_df.iterrows():\n",
    "\n",
    "    json_obj = {}\n",
    "    full_name = row['full_name']\n",
    "    piis = [r['value'] for r in row['pii_picked_dict']]\n",
    "\n",
    "    json_obj['subject'] = full_name\n",
    "    json_obj['subject2'] = piis\n",
    "\n",
    "    json_obj['question'] = row['question']\n",
    "    json_obj['answer'] = row['answer']\n",
    "    qa_list = [json_obj]\n",
    "\n",
    "    for qa in row['training_paraphrased_qa_pairs']:\n",
    "        json_obj = {}\n",
    "        json_obj['question'] = qa['paraphrased_question']\n",
    "        json_obj['answer'] = qa['paraphrased_answer']\n",
    "        json_obj['subject'] = full_name\n",
    "        json_obj['subject2'] = piis\n",
    "\n",
    "        qa_list.append(json_obj)\n",
    "\n",
    "    full_list.extend(qa_list)"
   ]
  },
  {
   "cell_type": "code",
   "execution_count": null,
   "id": "7fca8790",
   "metadata": {},
   "outputs": [],
   "source": [
    "import json\n",
    "\n",
    "file_path = '/projects/0/hpmlprjs/LLM/danp/UGBench/data/PII/full.json'\n",
    "with open(file_path, \"w\", encoding=\"utf-8\") as f:\n",
    "    json.dump(full_list, f, ensure_ascii=False, indent=2)"
   ]
  }
 ],
 "metadata": {
  "kernelspec": {
   "display_name": "permu_env",
   "language": "python",
   "name": "python3"
  },
  "language_info": {
   "codemirror_mode": {
    "name": "ipython",
    "version": 3
   },
   "file_extension": ".py",
   "mimetype": "text/x-python",
   "name": "python",
   "nbconvert_exporter": "python",
   "pygments_lexer": "ipython3",
   "version": "3.12.3"
  }
 },
 "nbformat": 4,
 "nbformat_minor": 5
}
