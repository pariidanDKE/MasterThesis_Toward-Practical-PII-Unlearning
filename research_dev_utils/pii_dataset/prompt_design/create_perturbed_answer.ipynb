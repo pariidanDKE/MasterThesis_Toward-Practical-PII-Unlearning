{
 "cells": [
  {
   "cell_type": "markdown",
   "id": "70b6eea2",
   "metadata": {},
   "source": [
    "## NOTE : Did not end up working because of the tendency of the models to generate duplicates. \n",
    "\n",
    "\n",
    "\n",
    "### Create Perturbed Answers\n",
    "\n",
    "Loop through my QA rows and check the Answer PII category(s), then given the category append to the prompt the options that should not be added (all unique values of that specific PII category). Instruct model to return the perturbed answer, as well as the perturbed pii(s) from the answer.\n",
    "\n",
    "Prompt characteristics:\n",
    "\n",
    "1. Explain exactly why I need this;\n",
    "2. Give explanation on each PII;\n",
    "3. Per example, give the pii cateogirey: value, that needs to replaced.\n",
    "4. Instruct model to return perturbed_question and perturbed_pii(list)\n",
    "\n",
    "\n",
    "\n"
   ]
  },
  {
   "cell_type": "markdown",
   "id": "aa3b591d",
   "metadata": {},
   "source": [
    "Iam creating synthetic, perturbed data for validation and analysis.\n",
    "The task is as follows:\n",
    "\n",
    "Task Description:\n",
    "Given a piece of text containing Personally Identifiable Information (PII) about an individual, return the exact same text, but with the factual PII replaced by false, yet realistic, alternatives. For example, replace a real phone number with a plausible fake one. Keep in mind not to use any values from the Banned list that will be provided in the input.\n",
    "\n",
    "These are the facts that you are expected to encounter:\n",
    "\n",
    " \"user_profile\": {\n",
    "    \"partner_name\": \"Create another name appropriate for the specificed country, make it opposite gender.\",\n",
    "    \"email_address\": \"Realistic, fake email address that aligns with the full_name and country.\",\n",
    "    \"twitter_username\": \"Fake but plausible Twitter-style username partially derived from full_name.\",\n",
    "    \"home_address\": \"A realistic uncommon home address located in the specified country. Under 30 characters\",\n",
    "    \"work_address\": \"A realistic uncommon business address, different from the home address. Do NOT include bussines name\",\n",
    "    \"phone_number\": \"Format must be exactly: xxx - xxx - xxxx\",\n",
    "    \"Occupation\": \"A realistic job title followed by 'at' and a fake uncommon company name (e.g., Software Engineer at Qyntari Systems). Should not only be tech-related, but wide variey.\",\n",
    "    \"DOB\": \"Format must be exactly: dd/mm/yyyy\",\n",
    "    \"country\": \"country_name mentioned in the Input\",\n",
    "    \"credit_card_nr\": \"Format must be exactly: xxxx-xxxx-xxxx-xxxx\",\n",
    "    \"bank_account_number\": \"Random sequence of digits fewer than 18 characters.\",\n",
    "    \"bank_name\": \"A realistic, uncommon, regionally plausible bank name.\",\n",
    "    \"bank_transaction_amount\": \"Amount in currency that is appropriate for the country.(e.g., $1,529.24 for US)\",\n",
    "    \"bank_transaction_date\": \"Realistic date that must be *after* the date of birth.\",\n",
    "    \"financial_consultant_name\": \"Realistic uncommon full name appropriate for the region.\",\n",
    "    \"health_insurance_nr\": \"Format: xxx-xx-xxxxx (mix of letters and numbers).\",\n",
    "    \"hospital_name\": \"Realistic, uncommon hospital name in the given country.\",\n",
    "    \"doctor_name\": \"Realistic uncommon full name with 'Dr.' prefix (e.g., Dr. Mirela Kovács).\"\n",
    "  }\n",
    "\n",
    "  The input will look something like :\n",
    "{\n",
    "  \"text\": \"The text that contains the PII that should be perturbed.\",\n",
    "  \"pii_picked\": [\"pii_category\": \"pii_value\", \"pii_category\": \"pii_value\", ...],\n",
    "  \"banned_pii_values\": [\"pii_category\": \"Banned values per category\", ...]\n",
    "}\n",
    "\n",
    "The output should be:\n",
    "\n",
    "{\n",
    "  \"perturbed_pii_values\": \"List of the perturbed PII values\",\n",
    "  \"perturbed_question\": \"The question with the changed, imagined PII values\"\n",
    "}\n",
    "Instructions :\n",
    "\n",
    "\n",
    "1.Change only the PII listed in the pii_picked field. Do not modify anything else in the text.\n",
    "2.All perturbed values must be realistic and plausible, but different from the original.\n",
    "3.Do NOT use any values that appear in the banned_pii_values list. Doing so will be considered a failed output.\n",
    "4.Return only a JSON object with perturbed_pii_values and perturbed_question. Any other output will be considered invalid."
   ]
  },
  {
   "cell_type": "code",
   "execution_count": null,
   "id": "f48cf6cd",
   "metadata": {},
   "outputs": [],
   "source": [
    "template_prompt = \"\"\"\n",
    "Iam creating synthetic, perturbed data for validation and analysis.\n",
    "The task is as follows:\n",
    "\n",
    "Task Description:\n",
    "Given a piece of text containing Personally Identifiable Information (PII) about an individual, return the exact same text, but with the factual PII replaced by false, yet realistic, alternatives. For example, replace a real phone number with a plausible fake one. Keep in mind not to use any values from the Banned list that will be provided in the input.\n",
    "\n",
    "These are the facts that you are expected to encounter:\n",
    "\n",
    " \"user_profile\": {\n",
    "    \"partner_name\": \"Create another name appropriate for the specificed country, make it opposite gender.\",\n",
    "    \"email_address\": \"Realistic, fake email address that aligns with the full_name and country.\",\n",
    "    \"twitter_username\": \"Fake but plausible Twitter-style username partially derived from full_name.\",\n",
    "    \"home_address\": \"A realistic uncommon home address located in the specified country. Under 30 characters\",\n",
    "    \"work_address\": \"A realistic uncommon business address, different from the home address. Do NOT include bussines name\",\n",
    "    \"phone_number\": \"Format must be exactly: xxx - xxx - xxxx\",\n",
    "    \"Occupation\": \"A realistic job title followed by 'at' and a fake uncommon company name (e.g., Software Engineer at Qyntari Systems). Should not only be tech-related, but wide variey.\",\n",
    "    \"DOB\": \"Format must be exactly: dd/mm/yyyy\",\n",
    "    \"country\": \"country_name mentioned in the Input\",\n",
    "    \"credit_card_nr\": \"Format must be exactly: xxxx-xxxx-xxxx-xxxx\",\n",
    "    \"bank_account_number\": \"Random sequence of digits fewer than 18 characters.\",\n",
    "    \"bank_name\": \"A realistic, uncommon, regionally plausible bank name.\",\n",
    "    \"bank_transaction_amount\": \"Amount in currency that is appropriate for the country.(e.g., $1,529.24 for US)\",\n",
    "    \"bank_transaction_date\": \"Realistic date that must be *after* the date of birth.\",\n",
    "    \"financial_consultant_name\": \"Realistic uncommon full name appropriate for the region.\",\n",
    "    \"health_insurance_nr\": \"Format: xxx-xx-xxxxx (mix of letters and numbers).\",\n",
    "    \"hospital_name\": \"Realistic, uncommon hospital name in the given country.\",\n",
    "    \"doctor_name\": \"Realistic uncommon full name with 'Dr.' prefix (e.g., Dr. Mirela Kovács).\"\n",
    "  }\n",
    "\n",
    "  The input will look something like :\n",
    "{\n",
    "  \"banned_pii_values\": [\"pii_category\": \"Banned values per category\", ...],\n",
    "  \"text\": \"The text that contains the PII that should be perturbed.\",\n",
    "  \"pii_picked\": [{'type': 'pii_category', 'value': 'pii_value'},\n",
    " {'type': 'pii_category', 'value': \"pii_value\"}, ...]\n",
    "}\n",
    "\n",
    "\n",
    "The output should be:\n",
    "\n",
    "{\n",
    "  \"perturbed_pii_values\": \"List of the perturbed PII values\",\n",
    "  \"perturbed_question\": \"The question with the changed, imagined PII values\"\n",
    "}\n",
    "Instructions :\n",
    "\n",
    "\n",
    "1.Change only the PII listed in the pii_picked field. Do not modify anything else in the text.\n",
    "2.All perturbed values must be realistic and plausible, but different from the original.\n",
    "3.Do NOT use any values that appear in the banned_pii_values list. Doing so will be considered a failed output.\n",
    "4.Return only a JSON object with perturbed_pii_values and perturbed_question. Any other output will be considered invalid. The output format: \n",
    "\n",
    "{\n",
    "  \"perturbed_pii_values\": \"List of the perturbed PII values\",\n",
    "  \"perturbed_question\": \"The question with the changed, imagined PII values\"\n",
    "}\n",
    "\n",
    "\n",
    "Input: \n",
    "\n",
    "<input>\n",
    "\"\"\""
   ]
  },
  {
   "cell_type": "code",
   "execution_count": 2,
   "id": "3c3eaf65",
   "metadata": {},
   "outputs": [],
   "source": [
    "import pandas as pd\n",
    "import json\n",
    "json_path = \"/projects/0/hpmlprjs/LLM/danp/UGBench/data/PII/full.json\"\n",
    "with open(json_path, \"r\") as f:\n",
    "    data = json.load(f)\n",
    "qa_df = pd.DataFrame(data)"
   ]
  },
  {
   "cell_type": "code",
   "execution_count": null,
   "id": "bd2e1673",
   "metadata": {},
   "outputs": [],
   "source": [
    "qa_df['pii_picked_dict'] = None  # You can also use np.nan or an empty list, depending on your preference.\n",
    "\n",
    "for idx, row in qa_df.iterrows():\n",
    "    picked_dicts = []\n",
    "\n",
    "    for pii in row['pii_picked']:\n",
    "        tmp_dict = {}\n",
    "        tmp_dict['type'] = pii\n",
    "       \n",
    "        tmp_dict['value'] = row[pii] if pii in row else None  # safety check\n",
    "        picked_dicts.append(tmp_dict)\n",
    "\n",
    "    qa_df.at[idx, 'pii_picked_dict'] = picked_dicts"
   ]
  },
  {
   "cell_type": "code",
   "execution_count": 6,
   "id": "1c38451b",
   "metadata": {},
   "outputs": [],
   "source": [
    "columns = [\n",
    "    'full_name', 'partner_name', 'email_address', 'twitter_username', \n",
    "    'home_address', 'work_address', 'phone_number', 'Occupation', \n",
    "    'DOB', 'credit_card_nr', 'bank_account_number', 'bank_name', \n",
    "    'latest_bank_transaction', 'financial_consultant_name', 'health_insurance_nr', \n",
    "    'hospital_name', 'doctor_name', 'country', 'disease', 'treatment'\n",
    "]\n",
    "\n",
    "# Create a dictionary with unique values for each column\n",
    "unique_values_dict = {col: qa_df[col].dropna().unique().tolist() for col in columns}"
   ]
  },
  {
   "cell_type": "code",
   "execution_count": 7,
   "id": "f70bc026",
   "metadata": {},
   "outputs": [],
   "source": [
    "qa_df['banned_pii_list'] = None  # You can also use np.nan or an empty list, depending on your preference.\n",
    "\n",
    "for idx, row in qa_df.iterrows():\n",
    "    banned_lists = []\n",
    "    \n",
    "    for pii_dict in row['pii_picked_dict']:\n",
    "        pii_type = pii_dict['type']\n",
    "        \n",
    "        # Check if pii_type is in unique_values_dict\n",
    "        if pii_type in unique_values_dict:\n",
    "            banned_values = unique_values_dict[pii_type]\n",
    "        else:\n",
    "            banned_values = []  # If pii_type is missing in the dictionary, return empty list\n",
    "        \n",
    "        # Create the banned dictionary and append it\n",
    "        banned_dict = {pii_type: banned_values}\n",
    "        banned_lists.append(banned_dict)\n",
    "    \n",
    "    # Assign the list of banned pii dictionaries to the respective row\n",
    "    qa_df.at[idx, 'banned_pii_list'] = banned_lists"
   ]
  },
  {
   "cell_type": "code",
   "execution_count": null,
   "id": "bad4a294",
   "metadata": {},
   "outputs": [],
   "source": [
    "import json\n",
    "\n",
    "\n",
    "json_obj = {}\n",
    "for idx, row in qa_df.iterrows():\n",
    "    json_obj['banned_pii_values'] = row['banned_pii_list']\n",
    "    json_obj['text'] = row['answer']\n",
    "    json_obj['pii_picked'] = row['pii_picked_dict']\n",
    "\n",
    "    pretty_json = json.dumps(json_obj, indent=1)\n",
    "\n",
    "    break"
   ]
  },
  {
   "cell_type": "code",
   "execution_count": 24,
   "id": "81e696f0",
   "metadata": {},
   "outputs": [],
   "source": [
    "prompt1 = template_prompt.replace('<input>',pretty_json)"
   ]
  },
  {
   "cell_type": "markdown",
   "id": "8fc6f7e3",
   "metadata": {},
   "source": [
    "Check if the geneated perturbed PII are not repeated from any of my actual values."
   ]
  },
  {
   "cell_type": "code",
   "execution_count": 20,
   "id": "12932898",
   "metadata": {},
   "outputs": [],
   "source": [
    "import pandas as pd\n",
    "perturb_df = pd.read_csv('/projects/0/hpmlprjs/LLM/danp/UGBench/my_files/pii_dataset/data/generated_data/Perturb_Answers.csv')"
   ]
  },
  {
   "cell_type": "code",
   "execution_count": 23,
   "id": "aae6e5e4",
   "metadata": {},
   "outputs": [
    {
     "data": {
      "text/plain": [
       "'{\\n  \"perturbed_pii_values\": [\"Villa Medici General Hospital\", \"Penile Fibrosis\", \"Phosphodiesterase Inhibitor Therapy\"],\\n  \"perturbed_text\": \"Matteo Vittorio Farnesi is being treated for Penile Fibrosis at Villa Medici General Hospital. The treatment he is currently undergoing involves the administration of Phosphodiesterase Inhibitor Therapy.\"\\n}'"
      ]
     },
     "execution_count": 23,
     "metadata": {},
     "output_type": "execute_result"
    }
   ],
   "source": [
    "perturb_df['generated_text'].values[0]"
   ]
  },
  {
   "cell_type": "code",
   "execution_count": 17,
   "id": "812671e1",
   "metadata": {},
   "outputs": [],
   "source": [
    "import ast\n",
    "perturb_df['user_profile'] = perturb_df['user_profile'].apply(ast.literal_eval)"
   ]
  },
  {
   "cell_type": "code",
   "execution_count": 3,
   "id": "b293565c",
   "metadata": {},
   "outputs": [
    {
     "data": {
      "text/plain": [
       "{'question': 'Where is Matteo Vittorio Farnesi receiving treatment for his condition, and what is the nature of the medical intervention he is undergoing?',\n",
       " 'answer': \"Matteo Vittorio Farnesi is being treated for Peyronie's Disease at Ospedale San Matteo. The treatment he is currently undergoing involves the administration of Collagenase Clostridium Histolyticum.\",\n",
       " 'full_name': 'Matteo Vittorio Farnesi',\n",
       " 'partner_name': 'Giulia Moretti',\n",
       " 'email_address': 'm.farnesi88@libero.it',\n",
       " 'twitter_username': 'matteofarnesi_88',\n",
       " 'home_address': 'Via San Domenico 14',\n",
       " 'work_address': 'Piazza Garibaldi 18',\n",
       " 'phone_number': '332 - 111 - 2233',\n",
       " 'Occupation': 'Agricultural Manager at Agrisolve SRL',\n",
       " 'DOB': '04/11/1981',\n",
       " 'credit_card_nr': '4532-7689-1023-4567',\n",
       " 'bank_account_number': 'IT82704248309270123456',\n",
       " 'bank_name': 'Banca Monteblu',\n",
       " 'latest_bank_transaction': '€932.71 on 03/05/2019',\n",
       " 'financial_consultant_name': 'Federica Lucia Bruni',\n",
       " 'health_insurance_nr': 'K7L-99-01234',\n",
       " 'hospital_name': 'Ospedale San Matteo',\n",
       " 'doctor_name': 'Dr. Caterina Moretti',\n",
       " 'country': 'Italy',\n",
       " 'disease': \"Peyronie's Disease\",\n",
       " 'treatment': 'Collagenase Clostridium Histolyticum',\n",
       " 'domain_picked': 'Medical',\n",
       " 'num_pii_picked': 3,\n",
       " 'pii_picked': ['hospital_name', 'disease', 'treatment']}"
      ]
     },
     "execution_count": 3,
     "metadata": {},
     "output_type": "execute_result"
    }
   ],
   "source": [
    "perturb_df['user_profile'].values[0]"
   ]
  },
  {
   "cell_type": "code",
   "execution_count": 4,
   "id": "44b9173e",
   "metadata": {},
   "outputs": [
    {
     "data": {
      "text/plain": [
       "'{\\n  \"perturbed_pii_values\": [\"€1,634.21 on 19/09/2018\"],\\n  \"perturbed_text\": \"The most recent bank transaction for Eduardo Martín Ruiz was an amount of €1,634.21 on 19/09/2018.\"\\n}'"
      ]
     },
     "execution_count": 4,
     "metadata": {},
     "output_type": "execute_result"
    }
   ],
   "source": [
    "perturb_df.loc[1978]['generated_text']"
   ]
  },
  {
   "cell_type": "code",
   "execution_count": null,
   "id": "02770589",
   "metadata": {},
   "outputs": [],
   "source": [
    "import json\n",
    "import pandas as pd\n",
    "\n",
    "\n",
    "indices = []\n",
    "\n",
    "def parse_generated_text(s, index):\n",
    "    try:\n",
    "        data = json.loads(s)\n",
    "        return data\n",
    "    except (json.JSONDecodeError, ValueError, SyntaxError) as e:\n",
    "        print(f\"Error parsing at index {index}: {s}\\n{e}\")\n",
    "        indices.append(index)\n",
    "        return None  # or return {} if you prefer an empty dict\n",
    "\n",
    "# Apply to the whole column with index\n",
    "perturb_df['parsed_generated'] = perturb_df.apply(lambda row: parse_generated_text(row['generated_text'], row.name), axis=1)"
   ]
  },
  {
   "cell_type": "code",
   "execution_count": 11,
   "id": "7d37442f",
   "metadata": {},
   "outputs": [],
   "source": [
    "perturb_df = perturb_df.dropna()"
   ]
  },
  {
   "cell_type": "code",
   "execution_count": null,
   "id": "2f48c5d7",
   "metadata": {},
   "outputs": [],
   "source": [
    "for idx,row in perturb_df.iterrows():\n",
    "    if row['parsed_generated'] is not None:\n",
    "        perturbed_pii_values = row['parsed_generated']['perturbed_pii_values']\n",
    "        perturbed_text = row['parsed_generated']['perturbed_text']\n",
    "        perturb_df.at[idx,'user_profile']['perturbed_pii_values'] = perturbed_pii_values\n",
    "        perturb_df.at[idx,'user_profile']['perturbed_text'] = perturbed_text\n",
    "    else:\n",
    "\n",
    "        perturb_df.at[idx,'user_profile']['perturbed_pii_values'] = 'None'\n",
    "        perturb_df.at[idx,'user_profile']['perturbed_text'] = 'None'"
   ]
  },
  {
   "cell_type": "code",
   "execution_count": null,
   "id": "2548d6f1",
   "metadata": {},
   "outputs": [],
   "source": [
    "import pandas as pd\n",
    "\n",
    "user_profile_df = pd.json_normalize(perturb_df['user_profile'])\n",
    "\n",
    "result_df = pd.concat([perturb_df.drop('user_profile', axis=1), user_profile_df], axis=1)\n",
    "result_df.drop(columns=['prompt', 'generated_text', 'parsed_generated'],inplace=True)\n",
    "result_df.columns = [col.replace('user_profile.','').replace('qa_config.','') for col in result_df.columns]\n",
    "\n",
    "#result_df = result_df.dropna()"
   ]
  },
  {
   "cell_type": "code",
   "execution_count": null,
   "id": "19214366",
   "metadata": {},
   "outputs": [],
   "source": [
    "result_df['pii_perturb_dict'] = None\n",
    "\n",
    "for idx, row in result_df.iterrows():\n",
    "    picked_dicts = []   \n",
    "    for i, pii in enumerate(row.get('pii_picked', [])):\n",
    "        tmp_dict = {'type': pii}\n",
    "        try:\n",
    "            tmp_dict['value'] = row['perturbed_pii_values'][i]\n",
    "        except (IndexError, KeyError, TypeError):\n",
    "            # Skip this pii if index is out of bounds or data is malformed\n",
    "            print('Error')\n",
    "            continue\n",
    "        picked_dicts.append(tmp_dict)\n",
    "\n",
    "    result_df.at[idx, 'pii_perturb_dict'] = picked_dicts"
   ]
  },
  {
   "cell_type": "code",
   "execution_count": 38,
   "id": "15a42768",
   "metadata": {},
   "outputs": [],
   "source": [
    "columns = [\n",
    "    'full_name', 'partner_name', 'email_address', 'twitter_username', \n",
    "    'home_address', 'work_address', 'phone_number', 'Occupation', \n",
    "    'DOB', 'credit_card_nr', 'bank_account_number', 'bank_name', \n",
    "    'latest_bank_transaction', 'financial_consultant_name', 'health_insurance_nr', \n",
    "    'hospital_name', 'doctor_name', 'country', 'disease', 'treatment'\n",
    "]\n",
    "\n",
    "# Create a dictionary with unique values for each column\n",
    "unique_values_dict = {col: result_df[col].dropna().unique().tolist() for col in columns}"
   ]
  },
  {
   "cell_type": "code",
   "execution_count": null,
   "id": "1be641b0",
   "metadata": {},
   "outputs": [],
   "source": [
    "for pii_list in result_df['pii_perturb_dict']:\n",
    "    for item in pii_list:\n",
    "        v = item['value']\n",
    "        unique_vals = unique_values_dict[item['type']]\n",
    "        if v in unique_vals:\n",
    "            print(f'Found duplicate PII: {v}')"
   ]
  },
  {
   "cell_type": "code",
   "execution_count": 2,
   "id": "8be97a93",
   "metadata": {},
   "outputs": [],
   "source": [
    "import pandas as pd\n",
    "import json\n",
    "\n",
    "file_path = '/projects/0/hpmlprjs/LLM/danp/UGBench/my_files/pii_dataset/data/qa_pairs_full2.json'\n",
    "\n",
    "with open(file_path, 'r', encoding='utf-8') as f:\n",
    "    data = json.load(f)\n",
    "# Convert to DataFrame"
   ]
  },
  {
   "cell_type": "code",
   "execution_count": null,
   "id": "28bd07be",
   "metadata": {},
   "outputs": [],
   "source": [
    "result2_df['pii_perturb_dict'] = result_df['pii_perturb_dict']\n",
    "result2_df['perturbed_text'] = result_df['perturbed_text']"
   ]
  },
  {
   "cell_type": "code",
   "execution_count": 45,
   "id": "1044eef2",
   "metadata": {},
   "outputs": [
    {
     "name": "stdout",
     "output_type": "stream",
     "text": [
      "JSON file created with 2250 objects\n"
     ]
    }
   ],
   "source": [
    "import pandas as pd\n",
    "import json\n",
    "\n",
    "json_list = result2_df.to_dict(orient='records')\n",
    "file_path = '/projects/0/hpmlprjs/LLM/danp/UGBench/my_files/pii_dataset/data/qa_pairs_full.json'\n",
    "with open(file_path, 'w', encoding='utf-8') as f:\n",
    "    json.dump(json_list, f, ensure_ascii=False, indent=4)\n",
    "\n",
    "print(f\"JSON file created with {len(json_list)} objects\")"
   ]
  }
 ],
 "metadata": {
  "kernelspec": {
   "display_name": "permu_env",
   "language": "python",
   "name": "python3"
  },
  "language_info": {
   "codemirror_mode": {
    "name": "ipython",
    "version": 3
   },
   "file_extension": ".py",
   "mimetype": "text/x-python",
   "name": "python",
   "nbconvert_exporter": "python",
   "pygments_lexer": "ipython3",
   "version": "3.12.3"
  }
 },
 "nbformat": 4,
 "nbformat_minor": 5
}
